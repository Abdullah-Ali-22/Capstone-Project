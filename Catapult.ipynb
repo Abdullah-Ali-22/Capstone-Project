{
 "cells": [
  {
   "cell_type": "code",
   "execution_count": 1,
   "metadata": {},
   "outputs": [],
   "source": [
    "#import Libraries\n",
    "import numpy as np\n",
    "import pandas as pd\n",
    "from scipy import stats\n",
    "from sklearn.linear_model import LinearRegression\n",
    "from sklearn.preprocessing import PolynomialFeatures"
   ]
  },
  {
   "cell_type": "markdown",
   "metadata": {},
   "source": [
    "## Data preperation"
   ]
  },
  {
   "cell_type": "code",
   "execution_count": 2,
   "metadata": {},
   "outputs": [
    {
     "name": "stdout",
     "output_type": "stream",
     "text": [
      "Xinit\n",
      "['FA', 'PE', 'BP', 'RA', 'CE']\n",
      "Size: (332, 5)\n",
      "---\n",
      "X\n",
      "['FA', 'PE', 'BP', 'FA^2', 'FA * PE', 'FA^2 * PE', 'BP * FA', 'BP * FA^2', 'BP * PE', 'BP * FA * PE', 'BP^2']\n",
      "Size: (147, 11)\n"
     ]
    }
   ],
   "source": [
    "df=np.genfromtxt('doe_data_wise2021.csv',names=True,delimiter=',');\n",
    "df = np.unique(df, axis=0)\n",
    "namesX = ['FA','PE','BP','RA','CE']\n",
    "Xinit=np.array([df[namesX[0]],df[namesX[1]],df[namesX[2]],df[namesX[3]],df[namesX[4]]]).transpose()\n",
    "yinit=df['distance']\n",
    "# selected coeficients\n",
    "df=df[df['RA']==185]\n",
    "df=df[df['CE']==300]\n",
    "y=df['distance']\n",
    "X=np.array([df[namesX[0]],df[namesX[1]],df[namesX[2]],df[namesX[0]]*df[namesX[0]],df[namesX[0]]*df[namesX[1]],df[namesX[0]]*df[namesX[0]]*df[namesX[1]],df[namesX[0]]*df[namesX[2]],df[namesX[0]]*df[namesX[0]]*df[namesX[2]],df[namesX[1]]*df[namesX[2]],df[namesX[0]]*df[namesX[1]]*df[namesX[2]],df[namesX[2]]*df[namesX[2]]]).transpose()\n",
    "feature_names = ['FA','PE','BP','FA^2','FA * PE','FA^2 * PE','BP * FA','BP * FA^2','BP * PE','BP * FA * PE','BP^2']\n",
    "# ---------\n",
    "print(\"Xinit\\n%s\\nSize: %s\" % (namesX,Xinit.shape))\n",
    "print(\"---\")\n",
    "print(\"X\\n%s\\nSize: %s\" % (feature_names,X.shape))"
   ]
  },
  {
   "cell_type": "markdown",
   "metadata": {},
   "source": [
    "**Data Preperation finished**"
   ]
  },
  {
   "cell_type": "markdown",
   "metadata": {},
   "source": [
    "## Fit regression model with selected polynomial coefficients"
   ]
  },
  {
   "cell_type": "code",
   "execution_count": 3,
   "metadata": {},
   "outputs": [
    {
     "name": "stdout",
     "output_type": "stream",
     "text": [
      "                            OLS Regression Results                            \n",
      "==============================================================================\n",
      "Dep. Variable:                      y   R-squared:                       0.994\n",
      "Model:                            OLS   Adj. R-squared:                  0.994\n",
      "Method:                 Least Squares   F-statistic:                     3466.\n",
      "Date:                Thu, 10 Dec 2020   Prob (F-statistic):          1.32e-152\n",
      "Time:                        11:55:58   Log-Likelihood:                -514.90\n",
      "No. Observations:                 147   AIC:                             1046.\n",
      "Df Residuals:                     139   BIC:                             1070.\n",
      "Df Model:                           7                                         \n",
      "Covariance Type:            nonrobust                                         \n",
      "==============================================================================\n",
      "                 coef    std err          t      P>|t|      [0.025      0.975]\n",
      "------------------------------------------------------------------------------\n",
      "const         -0.0078      0.004     -2.051      0.042      -0.015      -0.000\n",
      "x1             0.0012   3.38e-05     35.963      0.000       0.001       0.001\n",
      "x2            -1.5581      0.759     -2.054      0.042      -3.058      -0.058\n",
      "x3             0.0003   1.68e-05     20.136      0.000       0.000       0.000\n",
      "x4             0.0986      0.004     27.454      0.000       0.091       0.106\n",
      "x5             0.0460      0.013      3.503      0.001       0.020       0.072\n",
      "x6            -0.0007   4.01e-05    -17.944      0.000      -0.001      -0.001\n",
      "x7             0.0986      0.004     27.456      0.000       0.091       0.106\n",
      "x8            -0.0019   7.17e-05    -26.751      0.000      -0.002      -0.002\n",
      "x9            -0.1297      0.005    -25.643      0.000      -0.140      -0.120\n",
      "x10            0.0018   6.55e-05     27.902      0.000       0.002       0.002\n",
      "x11            0.0014      0.001      1.528      0.129      -0.000       0.003\n",
      "==============================================================================\n",
      "Omnibus:                        4.953   Durbin-Watson:                   0.752\n",
      "Prob(Omnibus):                  0.084   Jarque-Bera (JB):                4.892\n",
      "Skew:                          -0.293   Prob(JB):                       0.0867\n",
      "Kurtosis:                       3.675   Cond. No.                     2.02e+23\n",
      "==============================================================================\n",
      "\n",
      "Warnings:\n",
      "[1] Standard Errors assume that the covariance matrix of the errors is correctly specified.\n",
      "[2] The smallest eigenvalue is 6.89e-32. This might indicate that there are\n",
      "strong multicollinearity problems or that the design matrix is singular.\n"
     ]
    }
   ],
   "source": [
    "import statsmodels.api as sm\n",
    "Xsm = sm.add_constant(X)\n",
    "olsmodel = sm.OLS(y, Xsm)\n",
    "olsresult = olsmodel.fit()\n",
    "print(olsresult.summary())"
   ]
  },
  {
   "cell_type": "markdown",
   "metadata": {},
   "source": [
    "## Random Forest "
   ]
  },
  {
   "cell_type": "code",
   "execution_count": 4,
   "metadata": {},
   "outputs": [
    {
     "name": "stdout",
     "output_type": "stream",
     "text": [
      "0.9757545983962976\n"
     ]
    }
   ],
   "source": [
    "from sklearn.ensemble import RandomForestRegressor\n",
    "regr = RandomForestRegressor(n_estimators=500,max_depth=50)\n",
    "regr.fit(Xinit, yinit)\n",
    "print(regr.score(Xinit, yinit))"
   ]
  },
  {
   "cell_type": "code",
   "execution_count": 5,
   "metadata": {},
   "outputs": [
    {
     "name": "stdout",
     "output_type": "stream",
     "text": [
      "The 5 most important features: \n",
      "1. feature FA \t(0.285131)\n",
      "2. feature RA \t(0.229344)\n",
      "3. feature CE \t(0.219563)\n",
      "4. feature BP \t(0.155375)\n",
      "5. feature PE \t(0.110587)\n"
     ]
    }
   ],
   "source": [
    "importances = regr.feature_importances_\n",
    "indices = np.argsort(importances)[::-1]\n",
    "number_most_important = len(importances)\n",
    "# Print the feature ranking\n",
    "print(\"The %s most important features: \" % str(number_most_important))\n",
    "for f in range(0,number_most_important):\n",
    "    print(\"%s. feature %s \\t(%f)\" % (f + 1, namesX[indices[f]], importances[indices[f]]))"
   ]
  },
  {
   "cell_type": "markdown",
   "metadata": {},
   "source": [
    "## MLP Regression"
   ]
  },
  {
   "cell_type": "code",
   "execution_count": 6,
   "metadata": {},
   "outputs": [
    {
     "data": {
      "text/plain": [
       "0.9728050886408335"
      ]
     },
     "execution_count": 6,
     "metadata": {},
     "output_type": "execute_result"
    }
   ],
   "source": [
    "from sklearn.neural_network import MLPRegressor\n",
    "from sklearn.preprocessing import StandardScaler\n",
    "scale = StandardScaler()\n",
    "scale.fit(Xinit)\n",
    "Xp = scale.transform(Xinit)\n",
    "mlp = MLPRegressor(max_iter=5000, hidden_layer_sizes=(100,100),activation='relu')\n",
    "mlp.fit(Xp, yinit)\n",
    "#print(mlp.out_activation_)\n",
    "mlp.score(Xp, yinit)"
   ]
  },
  {
   "cell_type": "markdown",
   "metadata": {},
   "source": [
    "# Comparing results "
   ]
  },
  {
   "cell_type": "code",
   "execution_count": 7,
   "metadata": {},
   "outputs": [
    {
     "name": "stdout",
     "output_type": "stream",
     "text": [
      "Distance predicted by Linear Regression OLS: \t\t474\n",
      "Distance predicted by Random Forest: \t\t\t457\n",
      "Distance predicted by MLP: \t\t\t\t428\n"
     ]
    }
   ],
   "source": [
    "Xt = [[100,200,200,185,300]]; # ['FA','PE','BP','RA','CE']\n",
    "# choosen coeficients\n",
    "Xt=np.array(Xt)\n",
    "Xtest =[[Xt[0,0],Xt[0,1],Xt[0,2],Xt[0,0]*Xt[0,0],Xt[0,0]*Xt[0,1],Xt[0,0]*Xt[0,0]*Xt[0,1],Xt[0,0]*Xt[0,2],Xt[0,0]*Xt[0,0]*Xt[0,2],Xt[0,1]*Xt[0,2],Xt[0,0]*Xt[0,1]*Xt[0,2],Xt[0,2]*Xt[0,2]]]\n",
    "# -------------------\n",
    "print(\"Distance predicted by Linear Regression OLS: \\t\\t%.0f\" % np.round(olsresult.predict(np.append(1,Xtest).reshape(1,-1)),1))\n",
    "print(\"Distance predicted by Random Forest: \\t\\t\\t%.0f\" % np.round(regr.predict(Xt),1))\n",
    "print(\"Distance predicted by MLP: \\t\\t\\t\\t%.0f\" % np.round(mlp.predict(scale.transform(Xt)),1))"
   ]
  }
 ],
 "metadata": {
  "kernelspec": {
   "display_name": "FHWS vLab Python 3",
   "language": "python",
   "name": "python3"
  },
  "language_info": {
   "codemirror_mode": {
    "name": "ipython",
    "version": 3
   },
   "file_extension": ".py",
   "mimetype": "text/x-python",
   "name": "python",
   "nbconvert_exporter": "python",
   "pygments_lexer": "ipython3",
   "version": "3.8.3"
  }
 },
 "nbformat": 4,
 "nbformat_minor": 4
}
