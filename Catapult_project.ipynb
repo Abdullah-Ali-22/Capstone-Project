{
 "cells": [
  {
   "cell_type": "code",
   "execution_count": 69,
   "id": "double-studio",
   "metadata": {},
   "outputs": [
    {
     "name": "stdout",
     "output_type": "stream",
     "text": [
      "Collecting sagemaker==1.72.0\n",
      "  Downloading sagemaker-1.72.0.tar.gz (297 kB)\n",
      "\u001b[K     |████████████████████████████████| 297 kB 17.6 MB/s eta 0:00:01\n",
      "\u001b[?25hRequirement already satisfied: boto3>=1.14.12 in /home/ec2-user/anaconda3/envs/mxnet_p36/lib/python3.6/site-packages (from sagemaker==1.72.0) (1.17.16)\n",
      "Requirement already satisfied: numpy>=1.9.0 in /home/ec2-user/anaconda3/envs/mxnet_p36/lib/python3.6/site-packages (from sagemaker==1.72.0) (1.18.1)\n",
      "Requirement already satisfied: protobuf>=3.1 in /home/ec2-user/anaconda3/envs/mxnet_p36/lib/python3.6/site-packages (from sagemaker==1.72.0) (3.11.4)\n",
      "Requirement already satisfied: scipy>=0.19.0 in /home/ec2-user/anaconda3/envs/mxnet_p36/lib/python3.6/site-packages (from sagemaker==1.72.0) (1.4.1)\n",
      "Requirement already satisfied: protobuf3-to-dict>=0.1.5 in /home/ec2-user/anaconda3/envs/mxnet_p36/lib/python3.6/site-packages (from sagemaker==1.72.0) (0.1.5)\n",
      "Collecting smdebug-rulesconfig==0.1.4\n",
      "  Downloading smdebug_rulesconfig-0.1.4-py2.py3-none-any.whl (10 kB)\n",
      "Requirement already satisfied: importlib-metadata>=1.4.0 in /home/ec2-user/anaconda3/envs/mxnet_p36/lib/python3.6/site-packages (from sagemaker==1.72.0) (1.5.0)\n",
      "Requirement already satisfied: packaging>=20.0 in /home/ec2-user/anaconda3/envs/mxnet_p36/lib/python3.6/site-packages (from sagemaker==1.72.0) (20.1)\n",
      "Requirement already satisfied: jmespath<1.0.0,>=0.7.1 in /home/ec2-user/anaconda3/envs/mxnet_p36/lib/python3.6/site-packages (from boto3>=1.14.12->sagemaker==1.72.0) (0.10.0)\n",
      "Requirement already satisfied: botocore<1.21.0,>=1.20.16 in /home/ec2-user/anaconda3/envs/mxnet_p36/lib/python3.6/site-packages (from boto3>=1.14.12->sagemaker==1.72.0) (1.20.16)\n",
      "Requirement already satisfied: s3transfer<0.4.0,>=0.3.0 in /home/ec2-user/anaconda3/envs/mxnet_p36/lib/python3.6/site-packages (from boto3>=1.14.12->sagemaker==1.72.0) (0.3.4)\n",
      "Requirement already satisfied: urllib3<1.27,>=1.25.4 in /home/ec2-user/anaconda3/envs/mxnet_p36/lib/python3.6/site-packages (from botocore<1.21.0,>=1.20.16->boto3>=1.14.12->sagemaker==1.72.0) (1.25.10)\n",
      "Requirement already satisfied: python-dateutil<3.0.0,>=2.1 in /home/ec2-user/anaconda3/envs/mxnet_p36/lib/python3.6/site-packages (from botocore<1.21.0,>=1.20.16->boto3>=1.14.12->sagemaker==1.72.0) (2.8.1)\n",
      "Requirement already satisfied: zipp>=0.5 in /home/ec2-user/anaconda3/envs/mxnet_p36/lib/python3.6/site-packages (from importlib-metadata>=1.4.0->sagemaker==1.72.0) (2.2.0)\n",
      "Requirement already satisfied: pyparsing>=2.0.2 in /home/ec2-user/anaconda3/envs/mxnet_p36/lib/python3.6/site-packages (from packaging>=20.0->sagemaker==1.72.0) (2.4.6)\n",
      "Requirement already satisfied: six in /home/ec2-user/anaconda3/envs/mxnet_p36/lib/python3.6/site-packages (from packaging>=20.0->sagemaker==1.72.0) (1.14.0)\n",
      "Requirement already satisfied: setuptools in /home/ec2-user/anaconda3/envs/mxnet_p36/lib/python3.6/site-packages (from protobuf>=3.1->sagemaker==1.72.0) (45.2.0.post20200210)\n",
      "Building wheels for collected packages: sagemaker\n",
      "  Building wheel for sagemaker (setup.py) ... \u001b[?25ldone\n",
      "\u001b[?25h  Created wheel for sagemaker: filename=sagemaker-1.72.0-py2.py3-none-any.whl size=386358 sha256=ca33de7f9d130c8d16f82b334622bc4c5f2d6b2c62547e5f9965cac2daec406c\n",
      "  Stored in directory: /home/ec2-user/.cache/pip/wheels/c3/58/70/85faf4437568bfaa4c419937569ba1fe54d44c5db42406bbd7\n",
      "Successfully built sagemaker\n",
      "Installing collected packages: smdebug-rulesconfig, sagemaker\n",
      "  Attempting uninstall: smdebug-rulesconfig\n",
      "    Found existing installation: smdebug-rulesconfig 1.0.1\n",
      "    Uninstalling smdebug-rulesconfig-1.0.1:\n",
      "      Successfully uninstalled smdebug-rulesconfig-1.0.1\n",
      "  Attempting uninstall: sagemaker\n",
      "    Found existing installation: sagemaker 2.25.2\n",
      "    Uninstalling sagemaker-2.25.2:\n",
      "      Successfully uninstalled sagemaker-2.25.2\n",
      "Successfully installed sagemaker-1.72.0 smdebug-rulesconfig-0.1.4\n"
     ]
    }
   ],
   "source": [
    "# Make sure that we use SageMaker 1.x\n",
    "!pip install sagemaker==1.72.0"
   ]
  },
  {
   "cell_type": "code",
   "execution_count": 21,
   "id": "psychological-patch",
   "metadata": {},
   "outputs": [],
   "source": [
    "#import necessary libraries\n",
    "import os\n",
    "import numpy as np\n",
    "import pandas as pd\n",
    "import matplotlib.pyplot as plt"
   ]
  },
  {
   "cell_type": "code",
   "execution_count": 22,
   "id": "blessed-blair",
   "metadata": {},
   "outputs": [
    {
     "name": "stdout",
     "output_type": "stream",
     "text": [
      "shapeof the data (459, 6)\n"
     ]
    },
    {
     "data": {
      "text/html": [
       "<div>\n",
       "<style scoped>\n",
       "    .dataframe tbody tr th:only-of-type {\n",
       "        vertical-align: middle;\n",
       "    }\n",
       "\n",
       "    .dataframe tbody tr th {\n",
       "        vertical-align: top;\n",
       "    }\n",
       "\n",
       "    .dataframe thead th {\n",
       "        text-align: right;\n",
       "    }\n",
       "</style>\n",
       "<table border=\"1\" class=\"dataframe\">\n",
       "  <thead>\n",
       "    <tr style=\"text-align: right;\">\n",
       "      <th></th>\n",
       "      <th>RA</th>\n",
       "      <th>FA</th>\n",
       "      <th>CE</th>\n",
       "      <th>PE</th>\n",
       "      <th>BP</th>\n",
       "      <th>distance</th>\n",
       "    </tr>\n",
       "  </thead>\n",
       "  <tbody>\n",
       "    <tr>\n",
       "      <th>0</th>\n",
       "      <td>185</td>\n",
       "      <td>90</td>\n",
       "      <td>300</td>\n",
       "      <td>200</td>\n",
       "      <td>100</td>\n",
       "      <td>202.44</td>\n",
       "    </tr>\n",
       "    <tr>\n",
       "      <th>1</th>\n",
       "      <td>185</td>\n",
       "      <td>95</td>\n",
       "      <td>300</td>\n",
       "      <td>200</td>\n",
       "      <td>100</td>\n",
       "      <td>247.16</td>\n",
       "    </tr>\n",
       "    <tr>\n",
       "      <th>2</th>\n",
       "      <td>185</td>\n",
       "      <td>100</td>\n",
       "      <td>300</td>\n",
       "      <td>200</td>\n",
       "      <td>100</td>\n",
       "      <td>296.50</td>\n",
       "    </tr>\n",
       "    <tr>\n",
       "      <th>3</th>\n",
       "      <td>185</td>\n",
       "      <td>105</td>\n",
       "      <td>300</td>\n",
       "      <td>200</td>\n",
       "      <td>100</td>\n",
       "      <td>338.37</td>\n",
       "    </tr>\n",
       "    <tr>\n",
       "      <th>4</th>\n",
       "      <td>185</td>\n",
       "      <td>110</td>\n",
       "      <td>300</td>\n",
       "      <td>200</td>\n",
       "      <td>100</td>\n",
       "      <td>364.61</td>\n",
       "    </tr>\n",
       "    <tr>\n",
       "      <th>5</th>\n",
       "      <td>185</td>\n",
       "      <td>115</td>\n",
       "      <td>300</td>\n",
       "      <td>200</td>\n",
       "      <td>100</td>\n",
       "      <td>381.82</td>\n",
       "    </tr>\n",
       "    <tr>\n",
       "      <th>6</th>\n",
       "      <td>185</td>\n",
       "      <td>120</td>\n",
       "      <td>300</td>\n",
       "      <td>200</td>\n",
       "      <td>100</td>\n",
       "      <td>378.58</td>\n",
       "    </tr>\n",
       "    <tr>\n",
       "      <th>7</th>\n",
       "      <td>185</td>\n",
       "      <td>125</td>\n",
       "      <td>300</td>\n",
       "      <td>200</td>\n",
       "      <td>100</td>\n",
       "      <td>363.91</td>\n",
       "    </tr>\n",
       "    <tr>\n",
       "      <th>8</th>\n",
       "      <td>185</td>\n",
       "      <td>130</td>\n",
       "      <td>300</td>\n",
       "      <td>200</td>\n",
       "      <td>100</td>\n",
       "      <td>333.99</td>\n",
       "    </tr>\n",
       "    <tr>\n",
       "      <th>9</th>\n",
       "      <td>185</td>\n",
       "      <td>135</td>\n",
       "      <td>300</td>\n",
       "      <td>200</td>\n",
       "      <td>100</td>\n",
       "      <td>293.50</td>\n",
       "    </tr>\n",
       "    <tr>\n",
       "      <th>10</th>\n",
       "      <td>185</td>\n",
       "      <td>140</td>\n",
       "      <td>300</td>\n",
       "      <td>200</td>\n",
       "      <td>100</td>\n",
       "      <td>244.55</td>\n",
       "    </tr>\n",
       "    <tr>\n",
       "      <th>11</th>\n",
       "      <td>185</td>\n",
       "      <td>100</td>\n",
       "      <td>300</td>\n",
       "      <td>100</td>\n",
       "      <td>100</td>\n",
       "      <td>185.96</td>\n",
       "    </tr>\n",
       "    <tr>\n",
       "      <th>12</th>\n",
       "      <td>185</td>\n",
       "      <td>100</td>\n",
       "      <td>300</td>\n",
       "      <td>110</td>\n",
       "      <td>100</td>\n",
       "      <td>195.97</td>\n",
       "    </tr>\n",
       "    <tr>\n",
       "      <th>13</th>\n",
       "      <td>185</td>\n",
       "      <td>100</td>\n",
       "      <td>300</td>\n",
       "      <td>120</td>\n",
       "      <td>100</td>\n",
       "      <td>215.59</td>\n",
       "    </tr>\n",
       "    <tr>\n",
       "      <th>14</th>\n",
       "      <td>185</td>\n",
       "      <td>100</td>\n",
       "      <td>300</td>\n",
       "      <td>130</td>\n",
       "      <td>100</td>\n",
       "      <td>220.54</td>\n",
       "    </tr>\n",
       "    <tr>\n",
       "      <th>15</th>\n",
       "      <td>185</td>\n",
       "      <td>100</td>\n",
       "      <td>300</td>\n",
       "      <td>140</td>\n",
       "      <td>100</td>\n",
       "      <td>235.62</td>\n",
       "    </tr>\n",
       "    <tr>\n",
       "      <th>16</th>\n",
       "      <td>185</td>\n",
       "      <td>100</td>\n",
       "      <td>300</td>\n",
       "      <td>150</td>\n",
       "      <td>100</td>\n",
       "      <td>241.36</td>\n",
       "    </tr>\n",
       "    <tr>\n",
       "      <th>17</th>\n",
       "      <td>185</td>\n",
       "      <td>100</td>\n",
       "      <td>300</td>\n",
       "      <td>160</td>\n",
       "      <td>100</td>\n",
       "      <td>257.64</td>\n",
       "    </tr>\n",
       "    <tr>\n",
       "      <th>18</th>\n",
       "      <td>185</td>\n",
       "      <td>100</td>\n",
       "      <td>300</td>\n",
       "      <td>170</td>\n",
       "      <td>100</td>\n",
       "      <td>262.48</td>\n",
       "    </tr>\n",
       "    <tr>\n",
       "      <th>19</th>\n",
       "      <td>185</td>\n",
       "      <td>100</td>\n",
       "      <td>300</td>\n",
       "      <td>180</td>\n",
       "      <td>100</td>\n",
       "      <td>274.68</td>\n",
       "    </tr>\n",
       "  </tbody>\n",
       "</table>\n",
       "</div>"
      ],
      "text/plain": [
       "     RA   FA   CE   PE   BP  distance\n",
       "0   185   90  300  200  100    202.44\n",
       "1   185   95  300  200  100    247.16\n",
       "2   185  100  300  200  100    296.50\n",
       "3   185  105  300  200  100    338.37\n",
       "4   185  110  300  200  100    364.61\n",
       "5   185  115  300  200  100    381.82\n",
       "6   185  120  300  200  100    378.58\n",
       "7   185  125  300  200  100    363.91\n",
       "8   185  130  300  200  100    333.99\n",
       "9   185  135  300  200  100    293.50\n",
       "10  185  140  300  200  100    244.55\n",
       "11  185  100  300  100  100    185.96\n",
       "12  185  100  300  110  100    195.97\n",
       "13  185  100  300  120  100    215.59\n",
       "14  185  100  300  130  100    220.54\n",
       "15  185  100  300  140  100    235.62\n",
       "16  185  100  300  150  100    241.36\n",
       "17  185  100  300  160  100    257.64\n",
       "18  185  100  300  170  100    262.48\n",
       "19  185  100  300  180  100    274.68"
      ]
     },
     "execution_count": 22,
     "metadata": {},
     "output_type": "execute_result"
    }
   ],
   "source": [
    "#import the catapult data\n",
    "catapult_data = pd.read_csv('catapult_data.csv')\n",
    "print('shapeof the data',catapult_data.shape)\n",
    "#print the first 20 columns of catapult data\n",
    "catapult_data.head(20)"
   ]
  },
  {
   "cell_type": "code",
   "execution_count": 23,
   "id": "metric-labor",
   "metadata": {},
   "outputs": [
    {
     "name": "stdout",
     "output_type": "stream",
     "text": [
      "<class 'pandas.core.frame.DataFrame'>\n",
      "RangeIndex: 459 entries, 0 to 458\n",
      "Data columns (total 6 columns):\n",
      " #   Column    Non-Null Count  Dtype  \n",
      "---  ------    --------------  -----  \n",
      " 0   RA        459 non-null    int64  \n",
      " 1   FA        459 non-null    int64  \n",
      " 2   CE        459 non-null    int64  \n",
      " 3   PE        459 non-null    int64  \n",
      " 4   BP        459 non-null    int64  \n",
      " 5   distance  459 non-null    float64\n",
      "dtypes: float64(1), int64(5)\n",
      "memory usage: 21.6 KB\n"
     ]
    }
   ],
   "source": [
    "#print info of catapult_data\n",
    "catapult_data.info()"
   ]
  },
  {
   "cell_type": "code",
   "execution_count": 24,
   "id": "medieval-great",
   "metadata": {},
   "outputs": [
    {
     "data": {
      "text/html": [
       "<div>\n",
       "<style scoped>\n",
       "    .dataframe tbody tr th:only-of-type {\n",
       "        vertical-align: middle;\n",
       "    }\n",
       "\n",
       "    .dataframe tbody tr th {\n",
       "        vertical-align: top;\n",
       "    }\n",
       "\n",
       "    .dataframe thead th {\n",
       "        text-align: right;\n",
       "    }\n",
       "</style>\n",
       "<table border=\"1\" class=\"dataframe\">\n",
       "  <thead>\n",
       "    <tr style=\"text-align: right;\">\n",
       "      <th></th>\n",
       "      <th>RA</th>\n",
       "      <th>FA</th>\n",
       "      <th>CE</th>\n",
       "      <th>PE</th>\n",
       "      <th>BP</th>\n",
       "      <th>distance</th>\n",
       "    </tr>\n",
       "  </thead>\n",
       "  <tbody>\n",
       "    <tr>\n",
       "      <th>count</th>\n",
       "      <td>459.000000</td>\n",
       "      <td>459.000000</td>\n",
       "      <td>459.000000</td>\n",
       "      <td>459.000000</td>\n",
       "      <td>459.000000</td>\n",
       "      <td>459.000000</td>\n",
       "    </tr>\n",
       "    <tr>\n",
       "      <th>mean</th>\n",
       "      <td>174.337691</td>\n",
       "      <td>112.930283</td>\n",
       "      <td>267.799564</td>\n",
       "      <td>190.740741</td>\n",
       "      <td>161.019608</td>\n",
       "      <td>273.029760</td>\n",
       "    </tr>\n",
       "    <tr>\n",
       "      <th>std</th>\n",
       "      <td>18.568453</td>\n",
       "      <td>17.893045</td>\n",
       "      <td>40.192701</td>\n",
       "      <td>20.699986</td>\n",
       "      <td>41.756333</td>\n",
       "      <td>111.154204</td>\n",
       "    </tr>\n",
       "    <tr>\n",
       "      <th>min</th>\n",
       "      <td>135.000000</td>\n",
       "      <td>90.000000</td>\n",
       "      <td>200.000000</td>\n",
       "      <td>100.000000</td>\n",
       "      <td>100.000000</td>\n",
       "      <td>44.000000</td>\n",
       "    </tr>\n",
       "    <tr>\n",
       "      <th>25%</th>\n",
       "      <td>155.000000</td>\n",
       "      <td>100.000000</td>\n",
       "      <td>250.000000</td>\n",
       "      <td>200.000000</td>\n",
       "      <td>100.000000</td>\n",
       "      <td>194.120000</td>\n",
       "    </tr>\n",
       "    <tr>\n",
       "      <th>50%</th>\n",
       "      <td>185.000000</td>\n",
       "      <td>110.000000</td>\n",
       "      <td>300.000000</td>\n",
       "      <td>200.000000</td>\n",
       "      <td>175.000000</td>\n",
       "      <td>250.860000</td>\n",
       "    </tr>\n",
       "    <tr>\n",
       "      <th>75%</th>\n",
       "      <td>185.000000</td>\n",
       "      <td>120.000000</td>\n",
       "      <td>300.000000</td>\n",
       "      <td>200.000000</td>\n",
       "      <td>200.000000</td>\n",
       "      <td>331.265000</td>\n",
       "    </tr>\n",
       "    <tr>\n",
       "      <th>max</th>\n",
       "      <td>185.000000</td>\n",
       "      <td>140.000000</td>\n",
       "      <td>300.000000</td>\n",
       "      <td>200.000000</td>\n",
       "      <td>200.000000</td>\n",
       "      <td>636.540000</td>\n",
       "    </tr>\n",
       "  </tbody>\n",
       "</table>\n",
       "</div>"
      ],
      "text/plain": [
       "               RA          FA          CE          PE          BP    distance\n",
       "count  459.000000  459.000000  459.000000  459.000000  459.000000  459.000000\n",
       "mean   174.337691  112.930283  267.799564  190.740741  161.019608  273.029760\n",
       "std     18.568453   17.893045   40.192701   20.699986   41.756333  111.154204\n",
       "min    135.000000   90.000000  200.000000  100.000000  100.000000   44.000000\n",
       "25%    155.000000  100.000000  250.000000  200.000000  100.000000  194.120000\n",
       "50%    185.000000  110.000000  300.000000  200.000000  175.000000  250.860000\n",
       "75%    185.000000  120.000000  300.000000  200.000000  200.000000  331.265000\n",
       "max    185.000000  140.000000  300.000000  200.000000  200.000000  636.540000"
      ]
     },
     "execution_count": 24,
     "metadata": {},
     "output_type": "execute_result"
    }
   ],
   "source": [
    "catapult_data.describe()"
   ]
  },
  {
   "cell_type": "code",
   "execution_count": 25,
   "id": "entertaining-election",
   "metadata": {},
   "outputs": [
    {
     "data": {
      "image/png": "[encoded data removed]",
      "text/plain": [
       "<Figure size 1440x720 with 5 Axes>"
      ]
     },
     "metadata": {
      "needs_background": "light"
     },
     "output_type": "display_data"
    }
   ],
   "source": [
    "# Distribution of values for each attribute\n",
    "import seaborn \n",
    "\n",
    "plt.figure(1 , figsize = (20 , 10))\n",
    "n = 0 \n",
    "for x in ['FA','PE','BP','RA','CE']:\n",
    "    n += 1\n",
    "    plt.subplot(1 , 5 , n)\n",
    "    seaborn.histplot(catapult_data[x] , bins = 20, kde_kws={'bw':2})\n",
    "    plt.title('Distplot of {}'.format(x))\n",
    "plt.show()"
   ]
  },
  {
   "cell_type": "code",
   "execution_count": 26,
   "id": "compliant-olive",
   "metadata": {},
   "outputs": [
    {
     "name": "stdout",
     "output_type": "stream",
     "text": [
      "shapeof the data (459, 6)\n"
     ]
    },
    {
     "data": {
      "text/html": [
       "<div>\n",
       "<style scoped>\n",
       "    .dataframe tbody tr th:only-of-type {\n",
       "        vertical-align: middle;\n",
       "    }\n",
       "\n",
       "    .dataframe tbody tr th {\n",
       "        vertical-align: top;\n",
       "    }\n",
       "\n",
       "    .dataframe thead th {\n",
       "        text-align: right;\n",
       "    }\n",
       "</style>\n",
       "<table border=\"1\" class=\"dataframe\">\n",
       "  <thead>\n",
       "    <tr style=\"text-align: right;\">\n",
       "      <th></th>\n",
       "      <th>RA</th>\n",
       "      <th>FA</th>\n",
       "      <th>CE</th>\n",
       "      <th>PE</th>\n",
       "      <th>BP</th>\n",
       "      <th>distance</th>\n",
       "    </tr>\n",
       "  </thead>\n",
       "  <tbody>\n",
       "    <tr>\n",
       "      <th>0</th>\n",
       "      <td>185</td>\n",
       "      <td>90</td>\n",
       "      <td>300</td>\n",
       "      <td>200</td>\n",
       "      <td>100</td>\n",
       "      <td>202.44</td>\n",
       "    </tr>\n",
       "    <tr>\n",
       "      <th>1</th>\n",
       "      <td>185</td>\n",
       "      <td>95</td>\n",
       "      <td>300</td>\n",
       "      <td>200</td>\n",
       "      <td>100</td>\n",
       "      <td>247.16</td>\n",
       "    </tr>\n",
       "    <tr>\n",
       "      <th>2</th>\n",
       "      <td>185</td>\n",
       "      <td>100</td>\n",
       "      <td>300</td>\n",
       "      <td>200</td>\n",
       "      <td>100</td>\n",
       "      <td>296.50</td>\n",
       "    </tr>\n",
       "    <tr>\n",
       "      <th>3</th>\n",
       "      <td>185</td>\n",
       "      <td>105</td>\n",
       "      <td>300</td>\n",
       "      <td>200</td>\n",
       "      <td>100</td>\n",
       "      <td>338.37</td>\n",
       "    </tr>\n",
       "    <tr>\n",
       "      <th>4</th>\n",
       "      <td>185</td>\n",
       "      <td>110</td>\n",
       "      <td>300</td>\n",
       "      <td>200</td>\n",
       "      <td>100</td>\n",
       "      <td>364.61</td>\n",
       "    </tr>\n",
       "    <tr>\n",
       "      <th>...</th>\n",
       "      <td>...</td>\n",
       "      <td>...</td>\n",
       "      <td>...</td>\n",
       "      <td>...</td>\n",
       "      <td>...</td>\n",
       "      <td>...</td>\n",
       "    </tr>\n",
       "    <tr>\n",
       "      <th>454</th>\n",
       "      <td>185</td>\n",
       "      <td>90</td>\n",
       "      <td>300</td>\n",
       "      <td>200</td>\n",
       "      <td>100</td>\n",
       "      <td>199.54</td>\n",
       "    </tr>\n",
       "    <tr>\n",
       "      <th>455</th>\n",
       "      <td>185</td>\n",
       "      <td>140</td>\n",
       "      <td>200</td>\n",
       "      <td>200</td>\n",
       "      <td>150</td>\n",
       "      <td>187.45</td>\n",
       "    </tr>\n",
       "    <tr>\n",
       "      <th>456</th>\n",
       "      <td>185</td>\n",
       "      <td>140</td>\n",
       "      <td>300</td>\n",
       "      <td>200</td>\n",
       "      <td>200</td>\n",
       "      <td>450.42</td>\n",
       "    </tr>\n",
       "    <tr>\n",
       "      <th>457</th>\n",
       "      <td>185</td>\n",
       "      <td>115</td>\n",
       "      <td>250</td>\n",
       "      <td>200</td>\n",
       "      <td>100</td>\n",
       "      <td>300.05</td>\n",
       "    </tr>\n",
       "    <tr>\n",
       "      <th>458</th>\n",
       "      <td>185</td>\n",
       "      <td>90</td>\n",
       "      <td>300</td>\n",
       "      <td>200</td>\n",
       "      <td>150</td>\n",
       "      <td>234.43</td>\n",
       "    </tr>\n",
       "  </tbody>\n",
       "</table>\n",
       "<p>459 rows × 6 columns</p>\n",
       "</div>"
      ],
      "text/plain": [
       "      RA   FA   CE   PE   BP  distance\n",
       "0    185   90  300  200  100    202.44\n",
       "1    185   95  300  200  100    247.16\n",
       "2    185  100  300  200  100    296.50\n",
       "3    185  105  300  200  100    338.37\n",
       "4    185  110  300  200  100    364.61\n",
       "..   ...  ...  ...  ...  ...       ...\n",
       "454  185   90  300  200  100    199.54\n",
       "455  185  140  200  200  150    187.45\n",
       "456  185  140  300  200  200    450.42\n",
       "457  185  115  250  200  100    300.05\n",
       "458  185   90  300  200  150    234.43\n",
       "\n",
       "[459 rows x 6 columns]"
      ]
     },
     "execution_count": 26,
     "metadata": {},
     "output_type": "execute_result"
    }
   ],
   "source": [
    "#clean the data\n",
    "#Drop the rows where at least one element is missing.\n",
    "catapult_data=catapult_data.dropna()\n",
    "print('shapeof the data',catapult_data.shape)\n",
    "catapult_data"
   ]
  },
  {
   "cell_type": "code",
   "execution_count": 27,
   "id": "statistical-anthropology",
   "metadata": {},
   "outputs": [
    {
     "data": {
      "text/html": [
       "<div>\n",
       "<style scoped>\n",
       "    .dataframe tbody tr th:only-of-type {\n",
       "        vertical-align: middle;\n",
       "    }\n",
       "\n",
       "    .dataframe tbody tr th {\n",
       "        vertical-align: top;\n",
       "    }\n",
       "\n",
       "    .dataframe thead th {\n",
       "        text-align: right;\n",
       "    }\n",
       "</style>\n",
       "<table border=\"1\" class=\"dataframe\">\n",
       "  <thead>\n",
       "    <tr style=\"text-align: right;\">\n",
       "      <th></th>\n",
       "      <th>FA</th>\n",
       "      <th>PE</th>\n",
       "      <th>BP</th>\n",
       "      <th>RA</th>\n",
       "      <th>CE</th>\n",
       "    </tr>\n",
       "  </thead>\n",
       "  <tbody>\n",
       "    <tr>\n",
       "      <th>0</th>\n",
       "      <td>90</td>\n",
       "      <td>200</td>\n",
       "      <td>100</td>\n",
       "      <td>185</td>\n",
       "      <td>300</td>\n",
       "    </tr>\n",
       "    <tr>\n",
       "      <th>1</th>\n",
       "      <td>95</td>\n",
       "      <td>200</td>\n",
       "      <td>100</td>\n",
       "      <td>185</td>\n",
       "      <td>300</td>\n",
       "    </tr>\n",
       "    <tr>\n",
       "      <th>2</th>\n",
       "      <td>100</td>\n",
       "      <td>200</td>\n",
       "      <td>100</td>\n",
       "      <td>185</td>\n",
       "      <td>300</td>\n",
       "    </tr>\n",
       "    <tr>\n",
       "      <th>3</th>\n",
       "      <td>105</td>\n",
       "      <td>200</td>\n",
       "      <td>100</td>\n",
       "      <td>185</td>\n",
       "      <td>300</td>\n",
       "    </tr>\n",
       "    <tr>\n",
       "      <th>4</th>\n",
       "      <td>110</td>\n",
       "      <td>200</td>\n",
       "      <td>100</td>\n",
       "      <td>185</td>\n",
       "      <td>300</td>\n",
       "    </tr>\n",
       "    <tr>\n",
       "      <th>...</th>\n",
       "      <td>...</td>\n",
       "      <td>...</td>\n",
       "      <td>...</td>\n",
       "      <td>...</td>\n",
       "      <td>...</td>\n",
       "    </tr>\n",
       "    <tr>\n",
       "      <th>454</th>\n",
       "      <td>90</td>\n",
       "      <td>200</td>\n",
       "      <td>100</td>\n",
       "      <td>185</td>\n",
       "      <td>300</td>\n",
       "    </tr>\n",
       "    <tr>\n",
       "      <th>455</th>\n",
       "      <td>140</td>\n",
       "      <td>200</td>\n",
       "      <td>150</td>\n",
       "      <td>185</td>\n",
       "      <td>200</td>\n",
       "    </tr>\n",
       "    <tr>\n",
       "      <th>456</th>\n",
       "      <td>140</td>\n",
       "      <td>200</td>\n",
       "      <td>200</td>\n",
       "      <td>185</td>\n",
       "      <td>300</td>\n",
       "    </tr>\n",
       "    <tr>\n",
       "      <th>457</th>\n",
       "      <td>115</td>\n",
       "      <td>200</td>\n",
       "      <td>100</td>\n",
       "      <td>185</td>\n",
       "      <td>250</td>\n",
       "    </tr>\n",
       "    <tr>\n",
       "      <th>458</th>\n",
       "      <td>90</td>\n",
       "      <td>200</td>\n",
       "      <td>150</td>\n",
       "      <td>185</td>\n",
       "      <td>300</td>\n",
       "    </tr>\n",
       "  </tbody>\n",
       "</table>\n",
       "<p>459 rows × 5 columns</p>\n",
       "</div>"
      ],
      "text/plain": [
       "      FA   PE   BP   RA   CE\n",
       "0     90  200  100  185  300\n",
       "1     95  200  100  185  300\n",
       "2    100  200  100  185  300\n",
       "3    105  200  100  185  300\n",
       "4    110  200  100  185  300\n",
       "..   ...  ...  ...  ...  ...\n",
       "454   90  200  100  185  300\n",
       "455  140  200  150  185  200\n",
       "456  140  200  200  185  300\n",
       "457  115  200  100  185  250\n",
       "458   90  200  150  185  300\n",
       "\n",
       "[459 rows x 5 columns]"
      ]
     },
     "execution_count": 27,
     "metadata": {},
     "output_type": "execute_result"
    }
   ],
   "source": [
    "#seperate the data to input features and output\n",
    "#names =[ pin elevation, firing angle, bungee position, release angle, cup elevation]\n",
    "namesX = ['FA','PE','BP','RA','CE']\n",
    "X_catapult_pd = pd.DataFrame(catapult_data[namesX])\n",
    "X_catapult_pd"
   ]
  },
  {
   "cell_type": "code",
   "execution_count": 28,
   "id": "cutting-accommodation",
   "metadata": {},
   "outputs": [
    {
     "data": {
      "text/html": [
       "<div>\n",
       "<style scoped>\n",
       "    .dataframe tbody tr th:only-of-type {\n",
       "        vertical-align: middle;\n",
       "    }\n",
       "\n",
       "    .dataframe tbody tr th {\n",
       "        vertical-align: top;\n",
       "    }\n",
       "\n",
       "    .dataframe thead th {\n",
       "        text-align: right;\n",
       "    }\n",
       "</style>\n",
       "<table border=\"1\" class=\"dataframe\">\n",
       "  <thead>\n",
       "    <tr style=\"text-align: right;\">\n",
       "      <th></th>\n",
       "      <th>distance</th>\n",
       "    </tr>\n",
       "  </thead>\n",
       "  <tbody>\n",
       "    <tr>\n",
       "      <th>0</th>\n",
       "      <td>202.44</td>\n",
       "    </tr>\n",
       "    <tr>\n",
       "      <th>1</th>\n",
       "      <td>247.16</td>\n",
       "    </tr>\n",
       "    <tr>\n",
       "      <th>2</th>\n",
       "      <td>296.50</td>\n",
       "    </tr>\n",
       "    <tr>\n",
       "      <th>3</th>\n",
       "      <td>338.37</td>\n",
       "    </tr>\n",
       "    <tr>\n",
       "      <th>4</th>\n",
       "      <td>364.61</td>\n",
       "    </tr>\n",
       "    <tr>\n",
       "      <th>...</th>\n",
       "      <td>...</td>\n",
       "    </tr>\n",
       "    <tr>\n",
       "      <th>454</th>\n",
       "      <td>199.54</td>\n",
       "    </tr>\n",
       "    <tr>\n",
       "      <th>455</th>\n",
       "      <td>187.45</td>\n",
       "    </tr>\n",
       "    <tr>\n",
       "      <th>456</th>\n",
       "      <td>450.42</td>\n",
       "    </tr>\n",
       "    <tr>\n",
       "      <th>457</th>\n",
       "      <td>300.05</td>\n",
       "    </tr>\n",
       "    <tr>\n",
       "      <th>458</th>\n",
       "      <td>234.43</td>\n",
       "    </tr>\n",
       "  </tbody>\n",
       "</table>\n",
       "<p>459 rows × 1 columns</p>\n",
       "</div>"
      ],
      "text/plain": [
       "     distance\n",
       "0      202.44\n",
       "1      247.16\n",
       "2      296.50\n",
       "3      338.37\n",
       "4      364.61\n",
       "..        ...\n",
       "454    199.54\n",
       "455    187.45\n",
       "456    450.42\n",
       "457    300.05\n",
       "458    234.43\n",
       "\n",
       "[459 rows x 1 columns]"
      ]
     },
     "execution_count": 28,
     "metadata": {},
     "output_type": "execute_result"
    }
   ],
   "source": [
    "# output of the data\n",
    "Y_catapult_pd = pd.DataFrame(catapult_data.distance)\n",
    "Y_catapult_pd"
   ]
  },
  {
   "cell_type": "code",
   "execution_count": 31,
   "id": "specialized-remedy",
   "metadata": {},
   "outputs": [
    {
     "data": {
      "image/png": "[encoded data removed]",
      "text/plain": [
       "<Figure size 504x288 with 2 Axes>"
      ]
     },
     "metadata": {
      "needs_background": "light"
     },
     "output_type": "display_data"
    }
   ],
   "source": [
    "# Correlation heatmap \n",
    "plt.figure(figsize=(7,4)) \n",
    "seaborn.heatmap(X_catapult_pd.corr(),annot=True)\n",
    "plt.show()"
   ]
  },
  {
   "cell_type": "code",
   "execution_count": 32,
   "id": "nearby-handle",
   "metadata": {},
   "outputs": [],
   "source": [
    "#sperate the data to train and test using Sklearn model selection \n",
    "import sklearn.model_selection\n",
    "# We split the dataset into 2/3 training and 1/3 testing sets.\n",
    "X_train, X_test, Y_train, Y_test = sklearn.model_selection.train_test_split(X_catapult_pd, Y_catapult_pd, test_size=0.3)\n",
    "\n",
    "# Then we split the training set further into 2/3 training and 1/3 validation sets.\n",
    "X_train, X_val, Y_train, Y_val = sklearn.model_selection.train_test_split(X_train, Y_train, test_size=0.3)"
   ]
  },
  {
   "cell_type": "code",
   "execution_count": 33,
   "id": "visible-province",
   "metadata": {},
   "outputs": [
    {
     "name": "stdout",
     "output_type": "stream",
     "text": [
      "224 97 224 97\n"
     ]
    }
   ],
   "source": [
    "#print the number of training and validation data\n",
    "print(len(X_train),len(X_val),len(Y_train),len(Y_val))"
   ]
  },
  {
   "cell_type": "code",
   "execution_count": 34,
   "id": "improved-juvenile",
   "metadata": {},
   "outputs": [
    {
     "data": {
      "text/html": [
       "<div>\n",
       "<style scoped>\n",
       "    .dataframe tbody tr th:only-of-type {\n",
       "        vertical-align: middle;\n",
       "    }\n",
       "\n",
       "    .dataframe tbody tr th {\n",
       "        vertical-align: top;\n",
       "    }\n",
       "\n",
       "    .dataframe thead th {\n",
       "        text-align: right;\n",
       "    }\n",
       "</style>\n",
       "<table border=\"1\" class=\"dataframe\">\n",
       "  <thead>\n",
       "    <tr style=\"text-align: right;\">\n",
       "      <th></th>\n",
       "      <th>FA</th>\n",
       "      <th>PE</th>\n",
       "      <th>BP</th>\n",
       "      <th>RA</th>\n",
       "      <th>CE</th>\n",
       "    </tr>\n",
       "  </thead>\n",
       "  <tbody>\n",
       "    <tr>\n",
       "      <th>432</th>\n",
       "      <td>90</td>\n",
       "      <td>200</td>\n",
       "      <td>200</td>\n",
       "      <td>185</td>\n",
       "      <td>200</td>\n",
       "    </tr>\n",
       "    <tr>\n",
       "      <th>389</th>\n",
       "      <td>140</td>\n",
       "      <td>200</td>\n",
       "      <td>200</td>\n",
       "      <td>185</td>\n",
       "      <td>200</td>\n",
       "    </tr>\n",
       "    <tr>\n",
       "      <th>177</th>\n",
       "      <td>135</td>\n",
       "      <td>180</td>\n",
       "      <td>185</td>\n",
       "      <td>155</td>\n",
       "      <td>260</td>\n",
       "    </tr>\n",
       "    <tr>\n",
       "      <th>304</th>\n",
       "      <td>90</td>\n",
       "      <td>200</td>\n",
       "      <td>100</td>\n",
       "      <td>185</td>\n",
       "      <td>300</td>\n",
       "    </tr>\n",
       "    <tr>\n",
       "      <th>420</th>\n",
       "      <td>90</td>\n",
       "      <td>200</td>\n",
       "      <td>150</td>\n",
       "      <td>185</td>\n",
       "      <td>250</td>\n",
       "    </tr>\n",
       "    <tr>\n",
       "      <th>...</th>\n",
       "      <td>...</td>\n",
       "      <td>...</td>\n",
       "      <td>...</td>\n",
       "      <td>...</td>\n",
       "      <td>...</td>\n",
       "    </tr>\n",
       "    <tr>\n",
       "      <th>336</th>\n",
       "      <td>140</td>\n",
       "      <td>200</td>\n",
       "      <td>200</td>\n",
       "      <td>185</td>\n",
       "      <td>300</td>\n",
       "    </tr>\n",
       "    <tr>\n",
       "      <th>439</th>\n",
       "      <td>90</td>\n",
       "      <td>200</td>\n",
       "      <td>200</td>\n",
       "      <td>185</td>\n",
       "      <td>300</td>\n",
       "    </tr>\n",
       "    <tr>\n",
       "      <th>440</th>\n",
       "      <td>90</td>\n",
       "      <td>200</td>\n",
       "      <td>200</td>\n",
       "      <td>185</td>\n",
       "      <td>200</td>\n",
       "    </tr>\n",
       "    <tr>\n",
       "      <th>417</th>\n",
       "      <td>115</td>\n",
       "      <td>200</td>\n",
       "      <td>200</td>\n",
       "      <td>185</td>\n",
       "      <td>200</td>\n",
       "    </tr>\n",
       "    <tr>\n",
       "      <th>424</th>\n",
       "      <td>90</td>\n",
       "      <td>200</td>\n",
       "      <td>100</td>\n",
       "      <td>185</td>\n",
       "      <td>300</td>\n",
       "    </tr>\n",
       "  </tbody>\n",
       "</table>\n",
       "<p>224 rows × 5 columns</p>\n",
       "</div>"
      ],
      "text/plain": [
       "      FA   PE   BP   RA   CE\n",
       "432   90  200  200  185  200\n",
       "389  140  200  200  185  200\n",
       "177  135  180  185  155  260\n",
       "304   90  200  100  185  300\n",
       "420   90  200  150  185  250\n",
       "..   ...  ...  ...  ...  ...\n",
       "336  140  200  200  185  300\n",
       "439   90  200  200  185  300\n",
       "440   90  200  200  185  200\n",
       "417  115  200  200  185  200\n",
       "424   90  200  100  185  300\n",
       "\n",
       "[224 rows x 5 columns]"
      ]
     },
     "execution_count": 34,
     "metadata": {},
     "output_type": "execute_result"
    }
   ],
   "source": [
    "X_train"
   ]
  },
  {
   "cell_type": "code",
   "execution_count": 35,
   "id": "another-breath",
   "metadata": {},
   "outputs": [],
   "source": [
    "import sagemaker\n",
    "from sagemaker import get_execution_role\n",
    "from sagemaker.amazon.amazon_estimator import get_image_uri\n",
    "from sagemaker.predictor import csv_serializer"
   ]
  },
  {
   "cell_type": "code",
   "execution_count": 36,
   "id": "outside-witness",
   "metadata": {},
   "outputs": [
    {
     "name": "stdout",
     "output_type": "stream",
     "text": [
      "arn:aws:iam::906056258627:role/service-role/AmazonSageMaker-ExecutionRole-20210224T135543\n"
     ]
    }
   ],
   "source": [
    "# This is an object that represents the SageMaker session that we are currently operating in.\n",
    "session = sagemaker.Session()\n",
    "\n",
    "# get  An AWS IAM role\n",
    "role = get_execution_role()\n",
    "print(role)"
   ]
  },
  {
   "cell_type": "code",
   "execution_count": 130,
   "id": "listed-chapel",
   "metadata": {},
   "outputs": [
    {
     "name": "stdout",
     "output_type": "stream",
     "text": [
      "../data/catapult\n"
     ]
    }
   ],
   "source": [
    "#local data directory. We need to make sure that it exists\n",
    "data_dir = '../data/catapult'\n",
    "if not os.path.exists(data_dir):\n",
    "    os.makedirs(data_dir)\n",
    "print(data_dir)"
   ]
  },
  {
   "cell_type": "code",
   "execution_count": 131,
   "id": "cultural-processor",
   "metadata": {},
   "outputs": [],
   "source": [
    "#save  test, train and validation data to csv files\n",
    "X_test.to_csv(os.path.join(data_dir, 'test.csv'), header=False, index=False)\n",
    "# combine first the train and test data in one file then save them as csv file\n",
    "pd.concat([Y_val, X_val], axis=1).to_csv(os.path.join(data_dir, 'validation.csv'), header=False, index=False)\n",
    "pd.concat([Y_train, X_train], axis=1).to_csv(os.path.join(data_dir, 'train.csv'), header=False, index=False)"
   ]
  },
  {
   "cell_type": "code",
   "execution_count": 132,
   "id": "current-evans",
   "metadata": {},
   "outputs": [],
   "source": [
    "#folder name that the data will be uploaded\n",
    "prefix = 'catapult-xgboost-pr'\n",
    "#upload the data to s3 to usem them later in the model\n",
    "test_location = session.upload_data(os.path.join(data_dir, 'test.csv'), key_prefix=prefix)\n",
    "val_location = session.upload_data(os.path.join(data_dir, 'validation.csv'), key_prefix=prefix)\n",
    "train_location = session.upload_data(os.path.join(data_dir, 'train.csv'), key_prefix=prefix)"
   ]
  },
  {
   "cell_type": "code",
   "execution_count": 18,
   "id": "informal-shareware",
   "metadata": {},
   "outputs": [
    {
     "data": {
      "text/plain": [
       "'s3://sagemaker-us-east-1-906056258627/catapult-xgboost-pr/test.csv'"
      ]
     },
     "execution_count": 18,
     "metadata": {},
     "output_type": "execute_result"
    }
   ],
   "source": [
    "test_location"
   ]
  },
  {
   "cell_type": "code",
   "execution_count": 74,
   "id": "adjusted-timothy",
   "metadata": {},
   "outputs": [
    {
     "name": "stdout",
     "output_type": "stream",
     "text": [
      "Requirement already satisfied: sagemaker in /home/ec2-user/anaconda3/envs/mxnet_p36/lib/python3.6/site-packages (1.72.0)\n",
      "Collecting sagemaker\n",
      "  Downloading sagemaker-2.29.1.tar.gz (400 kB)\n",
      "\u001b[K     |████████████████████████████████| 400 kB 16.7 MB/s eta 0:00:01\n",
      "\u001b[?25hRequirement already satisfied: attrs in /home/ec2-user/anaconda3/envs/mxnet_p36/lib/python3.6/site-packages (from sagemaker) (19.3.0)\n",
      "Requirement already satisfied: boto3>=1.16.32 in /home/ec2-user/anaconda3/envs/mxnet_p36/lib/python3.6/site-packages (from sagemaker) (1.17.16)\n",
      "Requirement already satisfied: google-pasta in /home/ec2-user/anaconda3/envs/mxnet_p36/lib/python3.6/site-packages (from sagemaker) (0.2.0)\n",
      "Requirement already satisfied: numpy>=1.9.0 in /home/ec2-user/anaconda3/envs/mxnet_p36/lib/python3.6/site-packages (from sagemaker) (1.18.1)\n",
      "Requirement already satisfied: protobuf>=3.1 in /home/ec2-user/anaconda3/envs/mxnet_p36/lib/python3.6/site-packages (from sagemaker) (3.11.4)\n",
      "Requirement already satisfied: protobuf3-to-dict>=0.1.5 in /home/ec2-user/anaconda3/envs/mxnet_p36/lib/python3.6/site-packages (from sagemaker) (0.1.5)\n",
      "Collecting smdebug_rulesconfig==1.0.1\n",
      "  Using cached smdebug_rulesconfig-1.0.1-py2.py3-none-any.whl (20 kB)\n",
      "Requirement already satisfied: importlib-metadata>=1.4.0 in /home/ec2-user/anaconda3/envs/mxnet_p36/lib/python3.6/site-packages (from sagemaker) (1.5.0)\n",
      "Requirement already satisfied: packaging>=20.0 in /home/ec2-user/anaconda3/envs/mxnet_p36/lib/python3.6/site-packages (from sagemaker) (20.1)\n",
      "Requirement already satisfied: s3transfer<0.4.0,>=0.3.0 in /home/ec2-user/anaconda3/envs/mxnet_p36/lib/python3.6/site-packages (from boto3>=1.16.32->sagemaker) (0.3.4)\n",
      "Requirement already satisfied: botocore<1.21.0,>=1.20.16 in /home/ec2-user/anaconda3/envs/mxnet_p36/lib/python3.6/site-packages (from boto3>=1.16.32->sagemaker) (1.20.16)\n",
      "Requirement already satisfied: jmespath<1.0.0,>=0.7.1 in /home/ec2-user/anaconda3/envs/mxnet_p36/lib/python3.6/site-packages (from boto3>=1.16.32->sagemaker) (0.10.0)\n",
      "Requirement already satisfied: urllib3<1.27,>=1.25.4 in /home/ec2-user/anaconda3/envs/mxnet_p36/lib/python3.6/site-packages (from botocore<1.21.0,>=1.20.16->boto3>=1.16.32->sagemaker) (1.25.10)\n",
      "Requirement already satisfied: python-dateutil<3.0.0,>=2.1 in /home/ec2-user/anaconda3/envs/mxnet_p36/lib/python3.6/site-packages (from botocore<1.21.0,>=1.20.16->boto3>=1.16.32->sagemaker) (2.8.1)\n",
      "Requirement already satisfied: zipp>=0.5 in /home/ec2-user/anaconda3/envs/mxnet_p36/lib/python3.6/site-packages (from importlib-metadata>=1.4.0->sagemaker) (2.2.0)\n",
      "Requirement already satisfied: six in /home/ec2-user/anaconda3/envs/mxnet_p36/lib/python3.6/site-packages (from packaging>=20.0->sagemaker) (1.14.0)\n",
      "Requirement already satisfied: pyparsing>=2.0.2 in /home/ec2-user/anaconda3/envs/mxnet_p36/lib/python3.6/site-packages (from packaging>=20.0->sagemaker) (2.4.6)\n",
      "Requirement already satisfied: setuptools in /home/ec2-user/anaconda3/envs/mxnet_p36/lib/python3.6/site-packages (from protobuf>=3.1->sagemaker) (45.2.0.post20200210)\n",
      "Building wheels for collected packages: sagemaker\n",
      "  Building wheel for sagemaker (setup.py) ... \u001b[?25ldone\n",
      "\u001b[?25h  Created wheel for sagemaker: filename=sagemaker-2.29.1-py2.py3-none-any.whl size=564258 sha256=59d21aca4c4466edd11f12456c4d9099b10228026e937ed43400c82ca0d0b84a\n",
      "  Stored in directory: /home/ec2-user/.cache/pip/wheels/73/cf/7f/896dba4dde0032d0b511838ee75b07f66b5b59a6acdbb9c43d\n",
      "Successfully built sagemaker\n",
      "Installing collected packages: smdebug-rulesconfig, sagemaker\n",
      "  Attempting uninstall: smdebug-rulesconfig\n",
      "    Found existing installation: smdebug-rulesconfig 0.1.4\n",
      "    Uninstalling smdebug-rulesconfig-0.1.4:\n",
      "      Successfully uninstalled smdebug-rulesconfig-0.1.4\n",
      "  Attempting uninstall: sagemaker\n",
      "    Found existing installation: sagemaker 1.72.0\n",
      "    Uninstalling sagemaker-1.72.0:\n",
      "      Successfully uninstalled sagemaker-1.72.0\n",
      "Successfully installed sagemaker-2.29.1 smdebug-rulesconfig-1.0.1\n",
      "Note: you may need to restart the kernel to use updated packages.\n"
     ]
    }
   ],
   "source": [
    "pip install -U sagemaker\n"
   ]
  },
  {
   "cell_type": "code",
   "execution_count": 20,
   "id": "controlling-proof",
   "metadata": {},
   "outputs": [
    {
     "name": "stderr",
     "output_type": "stream",
     "text": [
      "'get_image_uri' method will be deprecated in favor of 'ImageURIProvider' class in SageMaker Python SDK v2.\n",
      "Parameter image_name will be renamed to image_uri in SageMaker Python SDK v2.\n"
     ]
    }
   ],
   "source": [
    "# As stated above, we use this utility method to construct the image name for the training container.\n",
    "xgboost_container = get_image_uri(session.boto_region_name,'xgboost', repo_version='1.0-1')\n",
    "\n",
    "# Now that we know which container to use, we can construct the estimator object.\n",
    "xgb = sagemaker.estimator.Estimator(xgboost_container, # The image name of the training container\n",
    "                                    role,      # The IAM role to use (our current role in this case)\n",
    "                                    train_instance_count=1, # The number of instances to use for training\n",
    "                                    train_instance_type='ml.m4.xlarge', # The type of instance to use for training\n",
    "                                    output_path='s3://{}/{}/output'.format(session.default_bucket(), prefix),\n",
    "                                                                        # Where to save the output (the model artifacts)\n",
    "                                    sagemaker_session=session) # The current SageMaker session"
   ]
  },
  {
   "cell_type": "code",
   "execution_count": 21,
   "id": "rising-intellectual",
   "metadata": {},
   "outputs": [],
   "source": [
    "#set the hyperparameters of the model\n",
    "xgb.set_hyperparameters(max_depth=5,\n",
    "                        eta=0.2,\n",
    "                        gamma=4,\n",
    "                        min_child_weight=6,\n",
    "                        subsample=0.8,\n",
    "                        objective='reg:linear',\n",
    "                        early_stopping_rounds=10,\n",
    "                        num_round=200)"
   ]
  },
  {
   "cell_type": "code",
   "execution_count": 22,
   "id": "consistent-jones",
   "metadata": {},
   "outputs": [
    {
     "name": "stderr",
     "output_type": "stream",
     "text": [
      "'s3_input' class will be renamed to 'TrainingInput' in SageMaker Python SDK v2.\n",
      "'s3_input' class will be renamed to 'TrainingInput' in SageMaker Python SDK v2.\n"
     ]
    },
    {
     "name": "stdout",
     "output_type": "stream",
     "text": [
      "2021-03-09 18:18:31 Starting - Starting the training job...\n",
      "2021-03-09 18:18:33 Starting - Launching requested ML instances......\n",
      "2021-03-09 18:19:53 Starting - Preparing the instances for training......\n",
      "2021-03-09 18:20:53 Downloading - Downloading input data...\n",
      "2021-03-09 18:21:15 Training - Downloading the training image...\n",
      "2021-03-09 18:21:58 Uploading - Uploading generated training model\n",
      "2021-03-09 18:21:58 Completed - Training job completed\n",
      "\u001b[34mINFO:sagemaker-containers:Imported framework sagemaker_xgboost_container.training\u001b[0m\n",
      "\u001b[34mINFO:sagemaker-containers:Failed to parse hyperparameter objective value reg:linear to Json.\u001b[0m\n",
      "\u001b[34mReturning the value itself\u001b[0m\n",
      "\u001b[34mINFO:sagemaker-containers:No GPUs detected (normal if no gpus installed)\u001b[0m\n",
      "\u001b[34mINFO:sagemaker_xgboost_container.training:Running XGBoost Sagemaker in algorithm mode\u001b[0m\n",
      "\u001b[34mINFO:root:Determined delimiter of CSV input is ','\u001b[0m\n",
      "\u001b[34mINFO:root:Determined delimiter of CSV input is ','\u001b[0m\n",
      "\u001b[34mINFO:root:Determined delimiter of CSV input is ','\u001b[0m\n",
      "\u001b[34m[18:21:48] 224x5 matrix with 1120 entries loaded from /opt/ml/input/data/train?format=csv&label_column=0&delimiter=,\u001b[0m\n",
      "\u001b[34mINFO:root:Determined delimiter of CSV input is ','\u001b[0m\n",
      "\u001b[34m[18:21:48] 97x5 matrix with 485 entries loaded from /opt/ml/input/data/validation?format=csv&label_column=0&delimiter=,\u001b[0m\n",
      "\u001b[34mINFO:root:Single node training.\u001b[0m\n",
      "\u001b[34mINFO:root:Train matrix has 224 rows\u001b[0m\n",
      "\u001b[34mINFO:root:Validation matrix has 97 rows\u001b[0m\n",
      "\u001b[34m[18:21:48] WARNING: /workspace/src/objective/regression_obj.cu:167: reg:linear is now deprecated in favor of reg:squarederror.\u001b[0m\n",
      "\u001b[34m[18:21:48] WARNING: /workspace/src/learner.cc:328: \u001b[0m\n",
      "\u001b[34mParameters: { early_stopping_rounds, num_round } might not be used.\n",
      "\n",
      "  This may not be accurate due to some parameters are only used in language bindings but\n",
      "  passed down to XGBoost core.  Or some parameters are not used but slip through this\n",
      "  verification. Please open an issue if you find above cases.\n",
      "\n",
      "\u001b[0m\n",
      "\u001b[34m[0]#011train-rmse:238.57866#011validation-rmse:248.90114\u001b[0m\n",
      "\u001b[34m[1]#011train-rmse:195.41582#011validation-rmse:204.43213\u001b[0m\n",
      "\u001b[34m[2]#011train-rmse:160.72006#011validation-rmse:168.33693\u001b[0m\n",
      "\u001b[34m[3]#011train-rmse:132.28445#011validation-rmse:138.89481\u001b[0m\n",
      "\u001b[34m[4]#011train-rmse:109.53928#011validation-rmse:115.10634\u001b[0m\n",
      "\u001b[34m[5]#011train-rmse:91.88368#011validation-rmse:97.09563\u001b[0m\n",
      "\u001b[34m[6]#011train-rmse:77.42004#011validation-rmse:82.56467\u001b[0m\n",
      "\u001b[34m[7]#011train-rmse:66.31223#011validation-rmse:71.54710\u001b[0m\n",
      "\u001b[34m[8]#011train-rmse:55.69284#011validation-rmse:60.09089\u001b[0m\n",
      "\u001b[34m[9]#011train-rmse:48.48734#011validation-rmse:51.98401\u001b[0m\n",
      "\u001b[34m[10]#011train-rmse:41.79656#011validation-rmse:44.97516\u001b[0m\n",
      "\u001b[34m[11]#011train-rmse:36.83006#011validation-rmse:39.83061\u001b[0m\n",
      "\u001b[34m[12]#011train-rmse:32.69567#011validation-rmse:35.64982\u001b[0m\n",
      "\u001b[34m[13]#011train-rmse:29.69037#011validation-rmse:32.74931\u001b[0m\n",
      "\u001b[34m[14]#011train-rmse:27.06215#011validation-rmse:29.63918\u001b[0m\n",
      "\u001b[34m[15]#011train-rmse:25.18512#011validation-rmse:27.96710\u001b[0m\n",
      "\u001b[34m[16]#011train-rmse:23.75727#011validation-rmse:26.25259\u001b[0m\n",
      "\u001b[34m[17]#011train-rmse:22.50885#011validation-rmse:25.29181\u001b[0m\n",
      "\u001b[34m[18]#011train-rmse:21.65473#011validation-rmse:24.78233\u001b[0m\n",
      "\u001b[34m[19]#011train-rmse:21.08096#011validation-rmse:23.62229\u001b[0m\n",
      "\u001b[34m[20]#011train-rmse:20.14702#011validation-rmse:23.48614\u001b[0m\n",
      "\u001b[34m[21]#011train-rmse:19.70800#011validation-rmse:23.64281\u001b[0m\n",
      "\u001b[34m[22]#011train-rmse:19.02225#011validation-rmse:23.58634\u001b[0m\n",
      "\u001b[34m[23]#011train-rmse:18.84436#011validation-rmse:23.06558\u001b[0m\n",
      "\u001b[34m[24]#011train-rmse:18.69344#011validation-rmse:22.48679\u001b[0m\n",
      "\u001b[34m[25]#011train-rmse:18.59953#011validation-rmse:22.28549\u001b[0m\n",
      "\u001b[34m[26]#011train-rmse:18.34987#011validation-rmse:22.19265\u001b[0m\n",
      "\u001b[34m[27]#011train-rmse:17.97172#011validation-rmse:22.49504\u001b[0m\n",
      "\u001b[34m[28]#011train-rmse:17.56084#011validation-rmse:22.71674\u001b[0m\n",
      "\u001b[34m[29]#011train-rmse:17.29011#011validation-rmse:22.95303\u001b[0m\n",
      "\u001b[34m[30]#011train-rmse:17.14390#011validation-rmse:22.72234\u001b[0m\n",
      "\u001b[34m[31]#011train-rmse:16.92236#011validation-rmse:22.92964\u001b[0m\n",
      "\u001b[34m[32]#011train-rmse:16.89583#011validation-rmse:22.65861\u001b[0m\n",
      "\u001b[34m[33]#011train-rmse:16.74309#011validation-rmse:22.53364\u001b[0m\n",
      "\u001b[34m[34]#011train-rmse:16.52520#011validation-rmse:22.78348\u001b[0m\n",
      "\u001b[34m[35]#011train-rmse:16.37380#011validation-rmse:23.10651\u001b[0m\n",
      "\u001b[34m[36]#011train-rmse:16.17508#011validation-rmse:23.22104\u001b[0m\n",
      "Training seconds: 65\n",
      "Billable seconds: 65\n"
     ]
    }
   ],
   "source": [
    "#location of our train and validation data, to make sure that SageMaker know where is the data\n",
    "s3_input_train = sagemaker.s3_input(s3_data=train_location, content_type='csv')\n",
    "s3_input_validation = sagemaker.s3_input(s3_data=val_location, content_type='csv')\n",
    "#fit the model with the data\n",
    "xgb.fit({'train': s3_input_train, 'validation': s3_input_validation})"
   ]
  },
  {
   "cell_type": "code",
   "execution_count": null,
   "id": "structural-expert",
   "metadata": {},
   "outputs": [],
   "source": [
    "# least train rmse is 16.17 and least validation rmse:23.22 "
   ]
  },
  {
   "cell_type": "code",
   "execution_count": 23,
   "id": "other-invasion",
   "metadata": {},
   "outputs": [
    {
     "name": "stderr",
     "output_type": "stream",
     "text": [
      "Parameter image will be renamed to image_uri in SageMaker Python SDK v2.\n"
     ]
    }
   ],
   "source": [
    "# to test our model we need to build batch tranform functionality\n",
    "xgb_transformer = xgb.transformer(instance_count = 1, instance_type = 'ml.m4.xlarge')"
   ]
  },
  {
   "cell_type": "code",
   "execution_count": 24,
   "id": "acting-check",
   "metadata": {},
   "outputs": [],
   "source": [
    "#begin a batch transform job using our trained model applying it to the test data we previous stored in S3\n",
    "xgb_transformer.transform(test_location, content_type='text/csv', split_type='Line')"
   ]
  },
  {
   "cell_type": "code",
   "execution_count": 25,
   "id": "fabulous-nicholas",
   "metadata": {},
   "outputs": [
    {
     "name": "stdout",
     "output_type": "stream",
     "text": [
      "................................\n",
      "\u001b[34m[2021-03-09:18:27:29:INFO] No GPUs detected (normal if no gpus installed)\u001b[0m\n",
      "\u001b[34m[2021-03-09:18:27:29:INFO] No GPUs detected (normal if no gpus installed)\u001b[0m\n",
      "\u001b[34m[2021-03-09:18:27:29:INFO] nginx config: \u001b[0m\n",
      "\u001b[34mworker_processes auto;\u001b[0m\n",
      "\u001b[34mdaemon off;\u001b[0m\n",
      "\u001b[34mpid /tmp/nginx.pid;\u001b[0m\n",
      "\u001b[34merror_log  /dev/stderr;\n",
      "\u001b[0m\n",
      "\u001b[34mworker_rlimit_nofile 4096;\n",
      "\u001b[0m\n",
      "\u001b[34mevents {\n",
      "  worker_connections 2048;\u001b[0m\n",
      "\u001b[34m}\n",
      "\u001b[0m\n",
      "\u001b[35m[2021-03-09:18:27:29:INFO] No GPUs detected (normal if no gpus installed)\u001b[0m\n",
      "\u001b[35m[2021-03-09:18:27:29:INFO] No GPUs detected (normal if no gpus installed)\u001b[0m\n",
      "\u001b[35m[2021-03-09:18:27:29:INFO] nginx config: \u001b[0m\n",
      "\u001b[35mworker_processes auto;\u001b[0m\n",
      "\u001b[35mdaemon off;\u001b[0m\n",
      "\u001b[35mpid /tmp/nginx.pid;\u001b[0m\n",
      "\u001b[35merror_log  /dev/stderr;\n",
      "\u001b[0m\n",
      "\u001b[35mworker_rlimit_nofile 4096;\n",
      "\u001b[0m\n",
      "\u001b[35mevents {\n",
      "  worker_connections 2048;\u001b[0m\n",
      "\u001b[35m}\n",
      "\u001b[0m\n",
      "\u001b[34mhttp {\n",
      "  include /etc/nginx/mime.types;\n",
      "  default_type application/octet-stream;\n",
      "  access_log /dev/stdout combined;\n",
      "\n",
      "  upstream gunicorn {\n",
      "    server unix:/tmp/gunicorn.sock;\n",
      "  }\n",
      "\n",
      "  server {\n",
      "    listen 8080 deferred;\n",
      "    client_max_body_size 0;\n",
      "\n",
      "    keepalive_timeout 3;\n",
      "\n",
      "    location ~ ^/(ping|invocations|execution-parameters) {\n",
      "      proxy_set_header X-Forwarded-For $proxy_add_x_forwarded_for;\n",
      "      proxy_set_header Host $http_host;\n",
      "      proxy_redirect off;\n",
      "      proxy_read_timeout 60s;\n",
      "      proxy_pass http://gunicorn;\n",
      "    }\n",
      "\n",
      "    location / {\n",
      "      return 404 \"{}\";\n",
      "    }\n",
      "\n",
      "  }\u001b[0m\n",
      "\u001b[34m}\n",
      "\n",
      "\u001b[0m\n",
      "\u001b[34m2021/03/09 18:27:29 [crit] 19#19: *1 connect() to unix:/tmp/gunicorn.sock failed (2: No such file or directory) while connecting to upstream, client: 169.254.255.130, server: , request: \"GET /ping HTTP/1.1\", upstream: \"http://unix:/tmp/gunicorn.sock:/ping\", host: \"169.254.255.131:8080\"\u001b[0m\n",
      "\u001b[34m169.254.255.130 - - [09/Mar/2021:18:27:29 +0000] \"GET /ping HTTP/1.1\" 502 182 \"-\" \"Go-http-client/1.1\"\u001b[0m\n",
      "\u001b[35mhttp {\n",
      "  include /etc/nginx/mime.types;\n",
      "  default_type application/octet-stream;\n",
      "  access_log /dev/stdout combined;\n",
      "\n",
      "  upstream gunicorn {\n",
      "    server unix:/tmp/gunicorn.sock;\n",
      "  }\n",
      "\n",
      "  server {\n",
      "    listen 8080 deferred;\n",
      "    client_max_body_size 0;\n",
      "\n",
      "    keepalive_timeout 3;\n",
      "\n",
      "    location ~ ^/(ping|invocations|execution-parameters) {\n",
      "      proxy_set_header X-Forwarded-For $proxy_add_x_forwarded_for;\n",
      "      proxy_set_header Host $http_host;\n",
      "      proxy_redirect off;\n",
      "      proxy_read_timeout 60s;\n",
      "      proxy_pass http://gunicorn;\n",
      "    }\n",
      "\n",
      "    location / {\n",
      "      return 404 \"{}\";\n",
      "    }\n",
      "\n",
      "  }\u001b[0m\n",
      "\u001b[35m}\n",
      "\n",
      "\u001b[0m\n",
      "\u001b[35m2021/03/09 18:27:29 [crit] 19#19: *1 connect() to unix:/tmp/gunicorn.sock failed (2: No such file or directory) while connecting to upstream, client: 169.254.255.130, server: , request: \"GET /ping HTTP/1.1\", upstream: \"http://unix:/tmp/gunicorn.sock:/ping\", host: \"169.254.255.131:8080\"\u001b[0m\n",
      "\u001b[35m169.254.255.130 - - [09/Mar/2021:18:27:29 +0000] \"GET /ping HTTP/1.1\" 502 182 \"-\" \"Go-http-client/1.1\"\u001b[0m\n",
      "\u001b[34m2021/03/09 18:27:29 [crit] 19#19: *3 connect() to unix:/tmp/gunicorn.sock failed (2: No such file or directory) while connecting to upstream, client: 169.254.255.130, server: , request: \"GET /ping HTTP/1.1\", upstream: \"http://unix:/tmp/gunicorn.sock:/ping\", host: \"169.254.255.131:8080\"\u001b[0m\n",
      "\u001b[34m169.254.255.130 - - [09/Mar/2021:18:27:29 +0000] \"GET /ping HTTP/1.1\" 502 182 \"-\" \"Go-http-client/1.1\"\u001b[0m\n",
      "\u001b[34m[2021-03-09 18:27:29 +0000] [17] [INFO] Starting gunicorn 19.10.0\u001b[0m\n",
      "\u001b[34m[2021-03-09 18:27:29 +0000] [17] [INFO] Listening at: unix:/tmp/gunicorn.sock (17)\u001b[0m\n",
      "\u001b[34m[2021-03-09 18:27:29 +0000] [17] [INFO] Using worker: gevent\u001b[0m\n",
      "\u001b[34m[2021-03-09 18:27:29 +0000] [24] [INFO] Booting worker with pid: 24\u001b[0m\n",
      "\u001b[34m[2021-03-09 18:27:29 +0000] [25] [INFO] Booting worker with pid: 25\u001b[0m\n",
      "\u001b[34m[2021-03-09 18:27:29 +0000] [26] [INFO] Booting worker with pid: 26\u001b[0m\n",
      "\u001b[34m[2021-03-09 18:27:29 +0000] [27] [INFO] Booting worker with pid: 27\u001b[0m\n",
      "\u001b[35m2021/03/09 18:27:29 [crit] 19#19: *3 connect() to unix:/tmp/gunicorn.sock failed (2: No such file or directory) while connecting to upstream, client: 169.254.255.130, server: , request: \"GET /ping HTTP/1.1\", upstream: \"http://unix:/tmp/gunicorn.sock:/ping\", host: \"169.254.255.131:8080\"\u001b[0m\n",
      "\u001b[35m169.254.255.130 - - [09/Mar/2021:18:27:29 +0000] \"GET /ping HTTP/1.1\" 502 182 \"-\" \"Go-http-client/1.1\"\u001b[0m\n",
      "\u001b[35m[2021-03-09 18:27:29 +0000] [17] [INFO] Starting gunicorn 19.10.0\u001b[0m\n",
      "\u001b[35m[2021-03-09 18:27:29 +0000] [17] [INFO] Listening at: unix:/tmp/gunicorn.sock (17)\u001b[0m\n",
      "\u001b[35m[2021-03-09 18:27:29 +0000] [17] [INFO] Using worker: gevent\u001b[0m\n",
      "\u001b[35m[2021-03-09 18:27:29 +0000] [24] [INFO] Booting worker with pid: 24\u001b[0m\n",
      "\u001b[35m[2021-03-09 18:27:29 +0000] [25] [INFO] Booting worker with pid: 25\u001b[0m\n",
      "\u001b[35m[2021-03-09 18:27:29 +0000] [26] [INFO] Booting worker with pid: 26\u001b[0m\n",
      "\u001b[35m[2021-03-09 18:27:29 +0000] [27] [INFO] Booting worker with pid: 27\u001b[0m\n",
      "\u001b[34m[2021-03-09:18:27:31:INFO] No GPUs detected (normal if no gpus installed)\u001b[0m\n",
      "\u001b[35m[2021-03-09:18:27:31:INFO] No GPUs detected (normal if no gpus installed)\u001b[0m\n",
      "\u001b[34m169.254.255.130 - - [09/Mar/2021:18:27:31 +0000] \"GET /ping HTTP/1.1\" 200 0 \"-\" \"Go-http-client/1.1\"\u001b[0m\n",
      "\u001b[34m169.254.255.130 - - [09/Mar/2021:18:27:31 +0000] \"GET /execution-parameters HTTP/1.1\" 200 84 \"-\" \"Go-http-client/1.1\"\u001b[0m\n",
      "\u001b[35m169.254.255.130 - - [09/Mar/2021:18:27:31 +0000] \"GET /ping HTTP/1.1\" 200 0 \"-\" \"Go-http-client/1.1\"\u001b[0m\n",
      "\u001b[35m169.254.255.130 - - [09/Mar/2021:18:27:31 +0000] \"GET /execution-parameters HTTP/1.1\" 200 84 \"-\" \"Go-http-client/1.1\"\u001b[0m\n",
      "\u001b[34m[2021-03-09:18:27:31:INFO] No GPUs detected (normal if no gpus installed)\u001b[0m\n",
      "\u001b[34m[2021-03-09:18:27:31:INFO] Determined delimiter of CSV input is ','\u001b[0m\n",
      "\u001b[34m[18:27:31] WARNING: /workspace/src/objective/regression_obj.cu:167: reg:linear is now deprecated in favor of reg:squarederror.\u001b[0m\n",
      "\u001b[34m169.254.255.130 - - [09/Mar/2021:18:27:31 +0000] \"POST /invocations HTTP/1.1\" 200 2549 \"-\" \"Go-http-client/1.1\"\u001b[0m\n",
      "\u001b[35m[2021-03-09:18:27:31:INFO] No GPUs detected (normal if no gpus installed)\u001b[0m\n",
      "\u001b[35m[2021-03-09:18:27:31:INFO] Determined delimiter of CSV input is ','\u001b[0m\n",
      "\u001b[35m[18:27:31] WARNING: /workspace/src/objective/regression_obj.cu:167: reg:linear is now deprecated in favor of reg:squarederror.\u001b[0m\n",
      "\u001b[35m169.254.255.130 - - [09/Mar/2021:18:27:31 +0000] \"POST /invocations HTTP/1.1\" 200 2549 \"-\" \"Go-http-client/1.1\"\u001b[0m\n",
      "\u001b[32m2021-03-09T18:27:31.587:[sagemaker logs]: MaxConcurrentTransforms=4, MaxPayloadInMB=6, BatchStrategy=MULTI_RECORD\u001b[0m\n"
     ]
    }
   ],
   "source": [
    "xgb_transformer.wait()\n"
   ]
  },
  {
   "cell_type": "code",
   "execution_count": 26,
   "id": "regional-mortgage",
   "metadata": {},
   "outputs": [
    {
     "name": "stdout",
     "output_type": "stream",
     "text": [
      "download: s3://sagemaker-us-east-1-906056258627/sagemaker-xgboost-2021-03-09-18-22-13-840/test.csv.out to ../data/catapult/test.csv.out\n"
     ]
    }
   ],
   "source": [
    "# copy the output file from its S3 location and save it locally\n",
    "!aws s3 cp --recursive $xgb_transformer.output_path $data_dir\n"
   ]
  },
  {
   "cell_type": "code",
   "execution_count": 27,
   "id": "powerful-parish",
   "metadata": {},
   "outputs": [],
   "source": [
    "#create a simple scatter plot between the predicted and actual distance values\n",
    "Y_pred = pd.read_csv(os.path.join(data_dir, 'test.csv.out'), header=None)\n"
   ]
  },
  {
   "cell_type": "code",
   "execution_count": 28,
   "id": "voluntary-corruption",
   "metadata": {},
   "outputs": [
    {
     "data": {
      "text/plain": [
       "Text(0.5, 1.0, 'orig distance vs Predicted distance')"
      ]
     },
     "execution_count": 28,
     "metadata": {},
     "output_type": "execute_result"
    },
    {
     "data": {
      "image/png": "[encoded data removed]",
      "text/plain": [
       "<Figure size 432x288 with 1 Axes>"
      ]
     },
     "metadata": {
      "needs_background": "light"
     },
     "output_type": "display_data"
    }
   ],
   "source": [
    "plt.scatter(Y_test, Y_pred)\n",
    "plt.xlabel(\" orig distance\")\n",
    "plt.ylabel(\"Predicted distance\")\n",
    "plt.title(\"orig distance vs Predicted distance\")"
   ]
  },
  {
   "cell_type": "code",
   "execution_count": 29,
   "id": "characteristic-dispute",
   "metadata": {},
   "outputs": [],
   "source": [
    "# we can see it's not exactily a linear line so the model is not completely accurate"
   ]
  },
  {
   "cell_type": "code",
   "execution_count": null,
   "id": "ordered-joshua",
   "metadata": {},
   "outputs": [],
   "source": []
  },
  {
   "cell_type": "code",
   "execution_count": null,
   "id": "quantitative-packaging",
   "metadata": {},
   "outputs": [],
   "source": [
    "#start to build Knn model"
   ]
  },
  {
   "cell_type": "code",
   "execution_count": 80,
   "id": "through-wellington",
   "metadata": {},
   "outputs": [],
   "source": [
    "#sperate the data to train and test using Sklearn model selection \n",
    "import sklearn.model_selection\n",
    "# We split the dataset into 2/3 training and 1/3 testing sets.\n",
    "X_train_k, X_test_k, Y_train_k, Y_test_k = sklearn.model_selection.train_test_split(X_catapult_pd, Y_catapult_pd, test_size=0.3)"
   ]
  },
  {
   "cell_type": "code",
   "execution_count": 81,
   "id": "loose-archives",
   "metadata": {},
   "outputs": [],
   "source": [
    "#scale the data using MinMaxScaler from sklearn\n",
    "from sklearn.preprocessing import MinMaxScaler\n",
    "scaler = MinMaxScaler(feature_range=(0, 1))\n",
    "#scaled train data\n",
    "x_train_scaled = scaler.fit_transform(X_train_k)\n",
    "X_train_s = pd.DataFrame(x_train_scaled)\n",
    "#scaled test data\n",
    "x_test_scaled = scaler.fit_transform(X_test_k)\n",
    "X_test_s = pd.DataFrame(x_test_scaled)\n",
    "\n",
    "Y_train_s=Y_train_k\n",
    "Y_test_s=Y_test_k"
   ]
  },
  {
   "cell_type": "code",
   "execution_count": 82,
   "id": "important-inquiry",
   "metadata": {},
   "outputs": [],
   "source": [
    "from sklearn import neighbors\n",
    "from sklearn.metrics import mean_squared_error \n",
    "from math import sqrt"
   ]
  },
  {
   "cell_type": "code",
   "execution_count": 86,
   "id": "collective-float",
   "metadata": {},
   "outputs": [
    {
     "name": "stdout",
     "output_type": "stream",
     "text": [
      "RMSE value for k=  1 is: 34.95626054727931\n",
      "RMSE value for k=  2 is: 35.553087788096775\n",
      "RMSE value for k=  3 is: 35.896538624012\n",
      "RMSE value for k=  4 is: 36.59602919949499\n",
      "RMSE value for k=  5 is: 34.42029261764139\n",
      "RMSE value for k=  6 is: 34.16060420557599\n",
      "RMSE value for k=  7 is: 34.762336094774255\n",
      "RMSE value for k=  8 is: 35.68191287612106\n",
      "RMSE value for k=  9 is: 37.37582015261836\n",
      "RMSE value for k=  10 is: 39.30196694924709\n",
      "RMSE value for k=  11 is: 41.2752624066877\n",
      "RMSE value for k=  12 is: 42.94294990722107\n",
      "RMSE value for k=  13 is: 45.90368588228085\n",
      "RMSE value for k=  14 is: 47.028466227926856\n",
      "RMSE value for k=  15 is: 48.79810148395123\n"
     ]
    }
   ],
   "source": [
    "rmse_val = [] #to store rmse values for different k\n",
    "for K in range(15):\n",
    "    K = K+1\n",
    "    model = neighbors.KNeighborsRegressor(n_neighbors = K)\n",
    "\n",
    "    model.fit(X_train_s, Y_train_s)  #fit the model\n",
    "    pred=model.predict(X_test_s) #make prediction on test set\n",
    "    error = sqrt(mean_squared_error(Y_test_s,pred)) #calculate rmse\n",
    "    rmse_val.append(error) #store rmse values\n",
    "    print('RMSE value for k= ' , K , 'is:', error)"
   ]
  },
  {
   "cell_type": "code",
   "execution_count": 87,
   "id": "military-overview",
   "metadata": {},
   "outputs": [
    {
     "data": {
      "text/plain": [
       "<AxesSubplot:>"
      ]
     },
     "execution_count": 87,
     "metadata": {},
     "output_type": "execute_result"
    },
    {
     "data": {
      "image/png": "[encoded data removed]",
      "text/plain": [
       "<Figure size 432x288 with 1 Axes>"
      ]
     },
     "metadata": {
      "needs_background": "light"
     },
     "output_type": "display_data"
    }
   ],
   "source": [
    "#plotting the rmse values against k values\n",
    "curve = pd.DataFrame(rmse_val) #elbow curve \n",
    "curve.plot()"
   ]
  },
  {
   "cell_type": "code",
   "execution_count": null,
   "id": "beginning-bermuda",
   "metadata": {},
   "outputs": [],
   "source": [
    "#lest rmse is 34.15 at k=6"
   ]
  },
  {
   "cell_type": "code",
   "execution_count": 149,
   "id": "liquid-norman",
   "metadata": {},
   "outputs": [
    {
     "data": {
      "text/plain": [
       "0.8145896940834727"
      ]
     },
     "execution_count": 149,
     "metadata": {},
     "output_type": "execute_result"
    }
   ],
   "source": [
    "#print the accuracy\n",
    "model.score(X_train_s,Y_train_s)\n"
   ]
  },
  {
   "cell_type": "code",
   "execution_count": 152,
   "id": "ecological-constraint",
   "metadata": {},
   "outputs": [
    {
     "name": "stdout",
     "output_type": "stream",
     "text": [
      "Distance predicted by model: \t\t\t\t304\n"
     ]
    }
   ],
   "source": [
    "#test the model and predict the distance\n",
    "Xt = [[100,200,200,185,300]]; # ['FA','PE','BP','RA','CE']\n",
    "print(\"Distance predicted by model: \\t\\t\\t\\t%.0f\" % np.round(model.predict(scaler.transform(Xt)),1))"
   ]
  },
  {
   "cell_type": "code",
   "execution_count": null,
   "id": "color-concept",
   "metadata": {},
   "outputs": [],
   "source": []
  },
  {
   "cell_type": "code",
   "execution_count": null,
   "id": "civil-smell",
   "metadata": {},
   "outputs": [],
   "source": []
  },
  {
   "cell_type": "code",
   "execution_count": null,
   "id": "other-government",
   "metadata": {},
   "outputs": [],
   "source": [
    "# build K-Nearest Neighbors (k-NN) in amazon sagemaker"
   ]
  },
  {
   "cell_type": "code",
   "execution_count": 136,
   "id": "fixed-forward",
   "metadata": {},
   "outputs": [
    {
     "name": "stderr",
     "output_type": "stream",
     "text": [
      "The method get_image_uri has been renamed in sagemaker>=2.\n",
      "See: https://sagemaker.readthedocs.io/en/stable/v2.html for details.\n"
     ]
    }
   ],
   "source": [
    "#image name for the training container.\n",
    "Knn_container = get_image_uri(session.boto_region_name,\"knn\", repo_version='1')"
   ]
  },
  {
   "cell_type": "code",
   "execution_count": 140,
   "id": "premium-quilt",
   "metadata": {},
   "outputs": [
    {
     "name": "stderr",
     "output_type": "stream",
     "text": [
      "train_instance_count has been renamed in sagemaker>=2.\n",
      "See: https://sagemaker.readthedocs.io/en/stable/v2.html for details.\n",
      "train_instance_type has been renamed in sagemaker>=2.\n",
      "See: https://sagemaker.readthedocs.io/en/stable/v2.html for details.\n"
     ]
    }
   ],
   "source": [
    "# Now that we know which container to use, we can construct the estimator object.\n",
    "Knn = sagemaker.estimator.Estimator(Knn_container, # The image name of the training container\n",
    "                                    role,      # The IAM role to use (our current role in this case)\n",
    "                                    train_instance_count=1, # The number of instances to use for training\n",
    "                                    train_instance_type='ml.m4.xlarge',# The type of instance to use for training\n",
    "                                    output_path='s3://{}/{}/output'.format(session.default_bucket(), prefix), # Where to save the output (the model artifacts)\n",
    "\n",
    "                                    sagemaker_session=session) # The current SageMaker session"
   ]
  },
  {
   "cell_type": "code",
   "execution_count": 141,
   "id": "confidential-debut",
   "metadata": {},
   "outputs": [],
   "source": [
    "#set the hyperparameter\n",
    "Knn.set_hyperparameters(predictor_type='regressor',\n",
    "                        feature_dim=5,\n",
    "                        k=5,\n",
    "                        sample_size=(len(X_train))\n",
    "                       )"
   ]
  },
  {
   "cell_type": "code",
   "execution_count": 142,
   "id": "decent-story",
   "metadata": {},
   "outputs": [
    {
     "name": "stderr",
     "output_type": "stream",
     "text": [
      "The class sagemaker.session.s3_input has been renamed in sagemaker>=2.\n",
      "See: https://sagemaker.readthedocs.io/en/stable/v2.html for details.\n",
      "The class sagemaker.session.s3_input has been renamed in sagemaker>=2.\n",
      "See: https://sagemaker.readthedocs.io/en/stable/v2.html for details.\n"
     ]
    },
    {
     "name": "stdout",
     "output_type": "stream",
     "text": [
      "2021-03-10 21:47:19 Starting - Starting the training job...\n",
      "2021-03-10 21:47:43 Starting - Launching requested ML instancesProfilerReport-1615412838: InProgress\n",
      ".........\n",
      "2021-03-10 21:49:04 Starting - Preparing the instances for training......\n",
      "2021-03-10 21:50:13 Downloading - Downloading input data\n",
      "2021-03-10 21:50:13 Training - Downloading the training image.....\u001b[34mDocker entrypoint called with argument(s): train\u001b[0m\n",
      "\u001b[34mRunning default environment configuration script\u001b[0m\n",
      "\u001b[34m[03/10/2021 21:50:59 INFO 139892673075008] Reading default configuration from /opt/amazon/lib/python2.7/site-packages/algorithm/resources/default-conf.json: {u'index_metric': u'L2', u'_tuning_objective_metric': u'', u'_num_gpus': u'auto', u'_log_level': u'info', u'feature_dim': u'auto', u'faiss_index_ivf_nlists': u'auto', u'epochs': u'1', u'index_type': u'faiss.Flat', u'_faiss_index_nprobe': u'5', u'_kvstore': u'dist_async', u'_num_kv_servers': u'1', u'mini_batch_size': u'5000'}\u001b[0m\n",
      "\u001b[34m[03/10/2021 21:50:59 INFO 139892673075008] Merging with provided configuration from /opt/ml/input/config/hyperparameters.json: {u'sample_size': u'224', u'feature_dim': u'5', u'predictor_type': u'regressor', u'k': u'5'}\u001b[0m\n",
      "\u001b[34m[03/10/2021 21:50:59 INFO 139892673075008] Final configuration: {u'index_metric': u'L2', u'predictor_type': u'regressor', u'_tuning_objective_metric': u'', u'_num_gpus': u'auto', u'_log_level': u'info', u'feature_dim': u'5', u'faiss_index_ivf_nlists': u'auto', u'sample_size': u'224', u'epochs': u'1', u'index_type': u'faiss.Flat', u'_faiss_index_nprobe': u'5', u'_kvstore': u'dist_async', u'_num_kv_servers': u'1', u'mini_batch_size': u'5000', u'k': u'5'}\u001b[0m\n",
      "\u001b[34m[03/10/2021 21:50:59 WARNING 139892673075008] Loggers have already been setup.\u001b[0m\n",
      "\u001b[34m[03/10/2021 21:50:59 INFO 139892673075008] Launching parameter server for role scheduler\u001b[0m\n",
      "\u001b[34m[03/10/2021 21:50:59 INFO 139892673075008] {'ECS_CONTAINER_METADATA_URI': 'http://169.254.170.2/v3/f78e6fb0-6424-43f1-953d-53f88733bb60', 'ECS_CONTAINER_METADATA_URI_V4': 'http://169.254.170.2/v4/f78e6fb0-6424-43f1-953d-53f88733bb60', 'PROTOCOL_BUFFERS_PYTHON_IMPLEMENTATION_VERSION': '2', 'PATH': '/opt/amazon/bin:/usr/local/nvidia/bin:/usr/local/sbin:/usr/local/bin:/usr/sbin:/usr/bin:/sbin:/bin:/opt/amazon/bin:/opt/amazon/bin', 'SAGEMAKER_HTTP_PORT': '8080', 'HOME': '/root', 'PYTHONUNBUFFERED': 'TRUE', 'CANONICAL_ENVROOT': '/opt/amazon', 'LD_LIBRARY_PATH': '/opt/amazon/lib/python2.7/site-packages/cv2/../../../../lib:/usr/local/nvidia/lib64:/opt/amazon/lib', 'LANG': 'en_US.utf8', 'DMLC_INTERFACE': 'eth0', 'SHLVL': '1', 'AWS_REGION': 'us-east-1', 'SAGEMAKER_METRICS_DIRECTORY': '/opt/ml/output/metrics/sagemaker', 'NVIDIA_VISIBLE_DEVICES': 'void', 'TRAINING_JOB_NAME': 'knn-2021-03-10-21-47-18-775', 'PROTOCOL_BUFFERS_PYTHON_IMPLEMENTATION': 'cpp', 'ENVROOT': '/opt/amazon', 'SAGEMAKER_DATA_PATH': '/opt/ml', 'NVIDIA_DRIVER_CAPABILITIES': 'compute,utility', 'NVIDIA_REQUIRE_CUDA': 'cuda>=9.0', 'OMP_NUM_THREADS': '2', 'HOSTNAME': 'ip-10-2-183-73.ec2.internal', 'AWS_CONTAINER_CREDENTIALS_RELATIVE_URI': '/v2/credentials/02b00ba3-3c8d-4da2-b79e-4710975848a3', 'PWD': '/', 'TRAINING_JOB_ARN': 'arn:aws:sagemaker:us-east-1:906056258627:training-job/knn-2021-03-10-21-47-18-775', 'AWS_EXECUTION_ENV': 'AWS_ECS_EC2'}\u001b[0m\n",
      "\u001b[34m[03/10/2021 21:50:59 INFO 139892673075008] envs={'ECS_CONTAINER_METADATA_URI': 'http://169.254.170.2/v3/f78e6fb0-6424-43f1-953d-53f88733bb60', 'ECS_CONTAINER_METADATA_URI_V4': 'http://169.254.170.2/v4/f78e6fb0-6424-43f1-953d-53f88733bb60', 'PROTOCOL_BUFFERS_PYTHON_IMPLEMENTATION_VERSION': '2', 'DMLC_NUM_WORKER': '1', 'DMLC_PS_ROOT_PORT': '9000', 'PATH': '/opt/amazon/bin:/usr/local/nvidia/bin:/usr/local/sbin:/usr/local/bin:/usr/sbin:/usr/bin:/sbin:/bin:/opt/amazon/bin:/opt/amazon/bin', 'SAGEMAKER_HTTP_PORT': '8080', 'HOME': '/root', 'PYTHONUNBUFFERED': 'TRUE', 'CANONICAL_ENVROOT': '/opt/amazon', 'LD_LIBRARY_PATH': '/opt/amazon/lib/python2.7/site-packages/cv2/../../../../lib:/usr/local/nvidia/lib64:/opt/amazon/lib', 'LANG': 'en_US.utf8', 'DMLC_INTERFACE': 'eth0', 'SHLVL': '1', 'DMLC_PS_ROOT_URI': '10.2.183.73', 'AWS_REGION': 'us-east-1', 'SAGEMAKER_METRICS_DIRECTORY': '/opt/ml/output/metrics/sagemaker', 'NVIDIA_VISIBLE_DEVICES': 'void', 'TRAINING_JOB_NAME': 'knn-2021-03-10-21-47-18-775', 'PROTOCOL_BUFFERS_PYTHON_IMPLEMENTATION': 'cpp', 'ENVROOT': '/opt/amazon', 'SAGEMAKER_DATA_PATH': '/opt/ml', 'NVIDIA_DRIVER_CAPABILITIES': 'compute,utility', 'NVIDIA_REQUIRE_CUDA': 'cuda>=9.0', 'OMP_NUM_THREADS': '2', 'HOSTNAME': 'ip-10-2-183-73.ec2.internal', 'AWS_CONTAINER_CREDENTIALS_RELATIVE_URI': '/v2/credentials/02b00ba3-3c8d-4da2-b79e-4710975848a3', 'DMLC_ROLE': 'scheduler', 'PWD': '/', 'DMLC_NUM_SERVER': '1', 'TRAINING_JOB_ARN': 'arn:aws:sagemaker:us-east-1:906056258627:training-job/knn-2021-03-10-21-47-18-775', 'AWS_EXECUTION_ENV': 'AWS_ECS_EC2'}\u001b[0m\n",
      "\u001b[34m[03/10/2021 21:50:59 INFO 139892673075008] Launching parameter server for role server\u001b[0m\n",
      "\u001b[34m[03/10/2021 21:50:59 INFO 139892673075008] {'ECS_CONTAINER_METADATA_URI': 'http://169.254.170.2/v3/f78e6fb0-6424-43f1-953d-53f88733bb60', 'ECS_CONTAINER_METADATA_URI_V4': 'http://169.254.170.2/v4/f78e6fb0-6424-43f1-953d-53f88733bb60', 'PROTOCOL_BUFFERS_PYTHON_IMPLEMENTATION_VERSION': '2', 'PATH': '/opt/amazon/bin:/usr/local/nvidia/bin:/usr/local/sbin:/usr/local/bin:/usr/sbin:/usr/bin:/sbin:/bin:/opt/amazon/bin:/opt/amazon/bin', 'SAGEMAKER_HTTP_PORT': '8080', 'HOME': '/root', 'PYTHONUNBUFFERED': 'TRUE', 'CANONICAL_ENVROOT': '/opt/amazon', 'LD_LIBRARY_PATH': '/opt/amazon/lib/python2.7/site-packages/cv2/../../../../lib:/usr/local/nvidia/lib64:/opt/amazon/lib', 'LANG': 'en_US.utf8', 'DMLC_INTERFACE': 'eth0', 'SHLVL': '1', 'AWS_REGION': 'us-east-1', 'SAGEMAKER_METRICS_DIRECTORY': '/opt/ml/output/metrics/sagemaker', 'NVIDIA_VISIBLE_DEVICES': 'void', 'TRAINING_JOB_NAME': 'knn-2021-03-10-21-47-18-775', 'PROTOCOL_BUFFERS_PYTHON_IMPLEMENTATION': 'cpp', 'ENVROOT': '/opt/amazon', 'SAGEMAKER_DATA_PATH': '/opt/ml', 'NVIDIA_DRIVER_CAPABILITIES': 'compute,utility', 'NVIDIA_REQUIRE_CUDA': 'cuda>=9.0', 'OMP_NUM_THREADS': '2', 'HOSTNAME': 'ip-10-2-183-73.ec2.internal', 'AWS_CONTAINER_CREDENTIALS_RELATIVE_URI': '/v2/credentials/02b00ba3-3c8d-4da2-b79e-4710975848a3', 'PWD': '/', 'TRAINING_JOB_ARN': 'arn:aws:sagemaker:us-east-1:906056258627:training-job/knn-2021-03-10-21-47-18-775', 'AWS_EXECUTION_ENV': 'AWS_ECS_EC2'}\u001b[0m\n",
      "\u001b[34m[03/10/2021 21:50:59 INFO 139892673075008] envs={'ECS_CONTAINER_METADATA_URI': 'http://169.254.170.2/v3/f78e6fb0-6424-43f1-953d-53f88733bb60', 'ECS_CONTAINER_METADATA_URI_V4': 'http://169.254.170.2/v4/f78e6fb0-6424-43f1-953d-53f88733bb60', 'PROTOCOL_BUFFERS_PYTHON_IMPLEMENTATION_VERSION': '2', 'DMLC_NUM_WORKER': '1', 'DMLC_PS_ROOT_PORT': '9000', 'PATH': '/opt/amazon/bin:/usr/local/nvidia/bin:/usr/local/sbin:/usr/local/bin:/usr/sbin:/usr/bin:/sbin:/bin:/opt/amazon/bin:/opt/amazon/bin', 'SAGEMAKER_HTTP_PORT': '8080', 'HOME': '/root', 'PYTHONUNBUFFERED': 'TRUE', 'CANONICAL_ENVROOT': '/opt/amazon', 'LD_LIBRARY_PATH': '/opt/amazon/lib/python2.7/site-packages/cv2/../../../../lib:/usr/local/nvidia/lib64:/opt/amazon/lib', 'LANG': 'en_US.utf8', 'DMLC_INTERFACE': 'eth0', 'SHLVL': '1', 'DMLC_PS_ROOT_URI': '10.2.183.73', 'AWS_REGION': 'us-east-1', 'SAGEMAKER_METRICS_DIRECTORY': '/opt/ml/output/metrics/sagemaker', 'NVIDIA_VISIBLE_DEVICES': 'void', 'TRAINING_JOB_NAME': 'knn-2021-03-10-21-47-18-775', 'PROTOCOL_BUFFERS_PYTHON_IMPLEMENTATION': 'cpp', 'ENVROOT': '/opt/amazon', 'SAGEMAKER_DATA_PATH': '/opt/ml', 'NVIDIA_DRIVER_CAPABILITIES': 'compute,utility', 'NVIDIA_REQUIRE_CUDA': 'cuda>=9.0', 'OMP_NUM_THREADS': '2', 'HOSTNAME': 'ip-10-2-183-73.ec2.internal', 'AWS_CONTAINER_CREDENTIALS_RELATIVE_URI': '/v2/credentials/02b00ba3-3c8d-4da2-b79e-4710975848a3', 'DMLC_ROLE': 'server', 'PWD': '/', 'DMLC_NUM_SERVER': '1', 'TRAINING_JOB_ARN': 'arn:aws:sagemaker:us-east-1:906056258627:training-job/knn-2021-03-10-21-47-18-775', 'AWS_EXECUTION_ENV': 'AWS_ECS_EC2'}\u001b[0m\n",
      "\u001b[34m[03/10/2021 21:50:59 INFO 139892673075008] Environment: {'ECS_CONTAINER_METADATA_URI': 'http://169.254.170.2/v3/f78e6fb0-6424-43f1-953d-53f88733bb60', 'ECS_CONTAINER_METADATA_URI_V4': 'http://169.254.170.2/v4/f78e6fb0-6424-43f1-953d-53f88733bb60', 'PROTOCOL_BUFFERS_PYTHON_IMPLEMENTATION_VERSION': '2', 'DMLC_PS_ROOT_PORT': '9000', 'DMLC_NUM_WORKER': '1', 'SAGEMAKER_HTTP_PORT': '8080', 'PATH': '/opt/amazon/bin:/usr/local/nvidia/bin:/usr/local/sbin:/usr/local/bin:/usr/sbin:/usr/bin:/sbin:/bin:/opt/amazon/bin:/opt/amazon/bin', 'PYTHONUNBUFFERED': 'TRUE', 'CANONICAL_ENVROOT': '/opt/amazon', 'LD_LIBRARY_PATH': '/opt/amazon/lib/python2.7/site-packages/cv2/../../../../lib:/usr/local/nvidia/lib64:/opt/amazon/lib', 'LANG': 'en_US.utf8', 'DMLC_INTERFACE': 'eth0', 'SHLVL': '1', 'DMLC_PS_ROOT_URI': '10.2.183.73', 'AWS_REGION': 'us-east-1', 'SAGEMAKER_METRICS_DIRECTORY': '/opt/ml/output/metrics/sagemaker', 'NVIDIA_VISIBLE_DEVICES': 'void', 'TRAINING_JOB_NAME': 'knn-2021-03-10-21-47-18-775', 'HOME': '/root', 'PROTOCOL_BUFFERS_PYTHON_IMPLEMENTATION': 'cpp', 'ENVROOT': '/opt/amazon', 'SAGEMAKER_DATA_PATH': '/opt/ml', 'NVIDIA_DRIVER_CAPABILITIES': 'compute,utility', 'NVIDIA_REQUIRE_CUDA': 'cuda>=9.0', 'OMP_NUM_THREADS': '2', 'HOSTNAME': 'ip-10-2-183-73.ec2.internal', 'AWS_CONTAINER_CREDENTIALS_RELATIVE_URI': '/v2/credentials/02b00ba3-3c8d-4da2-b79e-4710975848a3', 'DMLC_ROLE': 'worker', 'PWD': '/', 'DMLC_NUM_SERVER': '1', 'TRAINING_JOB_ARN': 'arn:aws:sagemaker:us-east-1:906056258627:training-job/knn-2021-03-10-21-47-18-775', 'AWS_EXECUTION_ENV': 'AWS_ECS_EC2'}\u001b[0m\n",
      "\u001b[34mProcess 60 is a shell:scheduler.\u001b[0m\n",
      "\u001b[34mProcess 70 is a shell:server.\u001b[0m\n",
      "\u001b[34mProcess 1 is a worker.\u001b[0m\n",
      "\u001b[34m[03/10/2021 21:50:59 INFO 139892673075008] Using default worker.\u001b[0m\n",
      "\u001b[34m[03/10/2021 21:51:00 INFO 139892673075008] Checkpoint loading and saving are disabled.\u001b[0m\n",
      "\u001b[34m[03/10/2021 21:51:00 INFO 139892673075008] nvidia-smi took: 0.0252649784088 secs to identify 0 gpus\u001b[0m\n",
      "\u001b[34m[03/10/2021 21:51:00 INFO 139892673075008] Create Store: dist_async\u001b[0m\n",
      "\u001b[34m[03/10/2021 21:51:00 ERROR 139892673075008] nvidia-smi: failed to run (127): /bin/sh: nvidia-smi: command not found\u001b[0m\n",
      "\u001b[34m[03/10/2021 21:51:00 INFO 139892673075008] Using per-worker sample size = 224 (Available virtual memory = 15079735296 bytes, GPU free memory = 0 bytes, number of workers = 1). If an out-of-memory error occurs, choose a larger instance type, use dimension reduction, decrease sample_size, and/or decrease mini_batch_size.\u001b[0m\n",
      "\u001b[34m#metrics {\"Metrics\": {\"Max Batches Seen Between Resets\": {\"count\": 1, \"max\": 0, \"sum\": 0.0, \"min\": 0}, \"Number of Batches Since Last Reset\": {\"count\": 1, \"max\": 0, \"sum\": 0.0, \"min\": 0}, \"Number of Records Since Last Reset\": {\"count\": 1, \"max\": 0, \"sum\": 0.0, \"min\": 0}, \"Total Batches Seen\": {\"count\": 1, \"max\": 0, \"sum\": 0.0, \"min\": 0}, \"Total Records Seen\": {\"count\": 1, \"max\": 0, \"sum\": 0.0, \"min\": 0}, \"Max Records Seen Between Resets\": {\"count\": 1, \"max\": 0, \"sum\": 0.0, \"min\": 0}, \"Reset Count\": {\"count\": 1, \"max\": 0, \"sum\": 0.0, \"min\": 0}}, \"EndTime\": 1615413060.844834, \"Dimensions\": {\"Host\": \"algo-1\", \"Meta\": \"init_train_data_iter\", \"Operation\": \"training\", \"Algorithm\": \"AWS/KNN\"}, \"StartTime\": 1615413060.844733}\n",
      "\u001b[0m\n",
      "\u001b[34m[03/10/2021 21:51:00 INFO 139892673075008] push reservoir to kv... 1 num_workers 0 rank\u001b[0m\n",
      "\u001b[34m[03/10/2021 21:51:00 INFO 139892673075008] ...done (224)\u001b[0m\n",
      "\u001b[34m[03/10/2021 21:51:00 INFO 139892673075008] #progress_metric: host=algo-1, completed 100 % of epochs\u001b[0m\n",
      "\u001b[34m#metrics {\"Metrics\": {\"Max Batches Seen Between Resets\": {\"count\": 1, \"max\": 1, \"sum\": 1.0, \"min\": 1}, \"Number of Batches Since Last Reset\": {\"count\": 1, \"max\": 1, \"sum\": 1.0, \"min\": 1}, \"Number of Records Since Last Reset\": {\"count\": 1, \"max\": 224, \"sum\": 224.0, \"min\": 224}, \"Total Batches Seen\": {\"count\": 1, \"max\": 1, \"sum\": 1.0, \"min\": 1}, \"Total Records Seen\": {\"count\": 1, \"max\": 224, \"sum\": 224.0, \"min\": 224}, \"Max Records Seen Between Resets\": {\"count\": 1, \"max\": 224, \"sum\": 224.0, \"min\": 224}, \"Reset Count\": {\"count\": 1, \"max\": 1, \"sum\": 1.0, \"min\": 1}}, \"EndTime\": 1615413060.870053, \"Dimensions\": {\"Host\": \"algo-1\", \"Meta\": \"training_data_iter\", \"Operation\": \"training\", \"Algorithm\": \"AWS/KNN\", \"epoch\": 0}, \"StartTime\": 1615413060.845184}\n",
      "\u001b[0m\n",
      "\u001b[34m[03/10/2021 21:51:00 INFO 139892673075008] #throughput_metric: host=algo-1, train throughput=8932.45068976 records/second\u001b[0m\n",
      "\u001b[34m[03/10/2021 21:51:00 INFO 139892673075008] pulled row count... worker 0 rows 224\u001b[0m\n",
      "\u001b[34m[03/10/2021 21:51:00 INFO 139892673075008] pulled... worker 0 data (224, 5) labels (224,) nans 0\u001b[0m\n",
      "\u001b[34m[03/10/2021 21:51:00 INFO 139892673075008] calling index.train...\u001b[0m\n",
      "\u001b[34m[03/10/2021 21:51:00 INFO 139892673075008] ...done calling index.train\u001b[0m\n",
      "\u001b[34m[03/10/2021 21:51:00 INFO 139892673075008] calling index.add...\u001b[0m\n",
      "\u001b[34m[03/10/2021 21:51:00 INFO 139892673075008] ...done calling index.add\u001b[0m\n",
      "\u001b[34m#metrics {\"Metrics\": {\"epochs\": {\"count\": 1, \"max\": 1, \"sum\": 1.0, \"min\": 1}, \"model.serialize.time\": {\"count\": 1, \"max\": 1.8999576568603516, \"sum\": 1.8999576568603516, \"min\": 1.8999576568603516}, \"finalize.time\": {\"count\": 1, \"max\": 3.5648345947265625, \"sum\": 3.5648345947265625, \"min\": 3.5648345947265625}, \"initialize.time\": {\"count\": 1, \"max\": 725.8028984069824, \"sum\": 725.8028984069824, \"min\": 725.8028984069824}, \"update.time\": {\"count\": 1, \"max\": 24.626970291137695, \"sum\": 24.626970291137695, \"min\": 24.626970291137695}}, \"EndTime\": 1615413060.875949, \"Dimensions\": {\"Host\": \"algo-1\", \"Operation\": \"training\", \"Algorithm\": \"AWS/KNN\"}, \"StartTime\": 1615413060.1185}\n",
      "\u001b[0m\n",
      "\u001b[34m[03/10/2021 21:51:00 INFO 139892673075008] Test data is not provided.\u001b[0m\n",
      "\u001b[34m#metrics {\"Metrics\": {\"totaltime\": {\"count\": 1, \"max\": 1824.6240615844727, \"sum\": 1824.6240615844727, \"min\": 1824.6240615844727}, \"setuptime\": {\"count\": 1, \"max\": 99.56192970275879, \"sum\": 99.56192970275879, \"min\": 99.56192970275879}}, \"EndTime\": 1615413060.876811, \"Dimensions\": {\"Host\": \"algo-1\", \"Operation\": \"training\", \"Algorithm\": \"AWS/KNN\"}, \"StartTime\": 1615413060.876037}\n",
      "\u001b[0m\n",
      "\n",
      "2021-03-10 21:51:13 Uploading - Uploading generated training model\n",
      "2021-03-10 21:51:13 Completed - Training job completed\n",
      "Training seconds: 80\n",
      "Billable seconds: 80\n"
     ]
    }
   ],
   "source": [
    "#the location of our train and validation data, to make sure that the data is in csv format.\n",
    "s3_input_train =  sagemaker.session.s3_input(s3_data=train_location, content_type='text/csv')\n",
    "s3_input_validation = sagemaker.session.s3_input(s3_data=val_location, content_type='text/csv')\n",
    "#fit the model with the data\n",
    "Knn.fit({'train': s3_input_train, 'validation': s3_input_validation})"
   ]
  },
  {
   "cell_type": "code",
   "execution_count": 145,
   "id": "saving-medline",
   "metadata": {},
   "outputs": [
    {
     "name": "stdout",
     "output_type": "stream",
     "text": [
      "-------------------!"
     ]
    }
   ],
   "source": [
    "# Deploy the model to a Sagemaker endpoint\n",
    "knn_predictor = Knn.deploy(initial_instance_count=1,instance_type='ml.m4.xlarge')\n"
   ]
  },
  {
   "cell_type": "code",
   "execution_count": null,
   "id": "complete-surface",
   "metadata": {},
   "outputs": [],
   "source": []
  },
  {
   "cell_type": "code",
   "execution_count": null,
   "id": "selective-vehicle",
   "metadata": {},
   "outputs": [],
   "source": [
    "#XGBoost in SageMaker (Hyperparameter Tuning)"
   ]
  },
  {
   "cell_type": "code",
   "execution_count": 53,
   "id": "legendary-grave",
   "metadata": {},
   "outputs": [],
   "source": [
    "from sagemaker.tuner import IntegerParameter, ContinuousParameter, HyperparameterTuner\n",
    "#construct the estimator object.\n",
    "xgb_hyperparameter_tuner = HyperparameterTuner(estimator = xgb, # The estimator object to use as the basis for the training jobs.\n",
    "                                               objective_metric_name = 'validation:rmse', # The metric used to compare trained models.\n",
    "                                               objective_type = 'Minimize', # Whether we wish to minimize or maximize the metric.\n",
    "                                               max_jobs = 20, # The total number of models to train\n",
    "                                               max_parallel_jobs = 3, # The number of models to train in parallel\n",
    "                                               hyperparameter_ranges = {\n",
    "                                                    'max_depth': IntegerParameter(3, 15),\n",
    "                                                    'eta'      : ContinuousParameter(0.05, 0.6),\n",
    "                                                    'min_child_weight': IntegerParameter(2, 12),\n",
    "                                                    'subsample': ContinuousParameter(0.5, 0.9),\n",
    "                                                    'gamma': ContinuousParameter(0, 10),\n",
    "                                               })"
   ]
  },
  {
   "cell_type": "code",
   "execution_count": 54,
   "id": "activated-geneva",
   "metadata": {},
   "outputs": [
    {
     "name": "stderr",
     "output_type": "stream",
     "text": [
      "'s3_input' class will be renamed to 'TrainingInput' in SageMaker Python SDK v2.\n",
      "'s3_input' class will be renamed to 'TrainingInput' in SageMaker Python SDK v2.\n"
     ]
    }
   ],
   "source": [
    "#location of our train and validation data, to make sure that SageMaker know where is the data\n",
    "s3_input_train = sagemaker.s3_input(s3_data=train_location, content_type='csv')\n",
    "s3_input_validation = sagemaker.s3_input(s3_data=val_location, content_type='csv')\n",
    "#fit the model with the data\n",
    "xgb_hyperparameter_tuner.fit({'train': s3_input_train, 'validation': s3_input_validation})"
   ]
  },
  {
   "cell_type": "code",
   "execution_count": 55,
   "id": "floppy-humidity",
   "metadata": {},
   "outputs": [
    {
     "name": "stdout",
     "output_type": "stream",
     "text": [
      ".....................................................................................................................................................................................................................................................................................................................................................................!\n"
     ]
    }
   ],
   "source": [
    "xgb_hyperparameter_tuner.wait()\n"
   ]
  },
  {
   "cell_type": "code",
   "execution_count": 56,
   "id": "closed-intention",
   "metadata": {},
   "outputs": [
    {
     "data": {
      "text/plain": [
       "'sagemaker-xgboost-210309-1858-018-02b3258b'"
      ]
     },
     "execution_count": 56,
     "metadata": {},
     "output_type": "execute_result"
    }
   ],
   "source": [
    "#train the best train job\n",
    "xgb_hyperparameter_tuner.best_training_job()\n"
   ]
  },
  {
   "cell_type": "code",
   "execution_count": 57,
   "id": "sound-manufacturer",
   "metadata": {},
   "outputs": [
    {
     "name": "stderr",
     "output_type": "stream",
     "text": [
      "Parameter image_name will be renamed to image_uri in SageMaker Python SDK v2.\n"
     ]
    },
    {
     "name": "stdout",
     "output_type": "stream",
     "text": [
      "2021-03-09 19:24:06 Starting - Preparing the instances for training\n",
      "2021-03-09 19:24:06 Downloading - Downloading input data\n",
      "2021-03-09 19:24:06 Training - Training image download completed. Training in progress.\n",
      "2021-03-09 19:24:06 Uploading - Uploading generated training model\n",
      "2021-03-09 19:24:06 Completed - Training job completed\u001b[34mINFO:sagemaker-containers:Imported framework sagemaker_xgboost_container.training\u001b[0m\n",
      "\u001b[34mINFO:sagemaker-containers:Failed to parse hyperparameter _tuning_objective_metric value validation:rmse to Json.\u001b[0m\n",
      "\u001b[34mReturning the value itself\u001b[0m\n",
      "\u001b[34mINFO:sagemaker-containers:Failed to parse hyperparameter objective value reg:linear to Json.\u001b[0m\n",
      "\u001b[34mReturning the value itself\u001b[0m\n",
      "\u001b[34mINFO:sagemaker-containers:No GPUs detected (normal if no gpus installed)\u001b[0m\n",
      "\u001b[34mINFO:sagemaker_xgboost_container.training:Running XGBoost Sagemaker in algorithm mode\u001b[0m\n",
      "\u001b[34mINFO:root:Determined delimiter of CSV input is ','\u001b[0m\n",
      "\u001b[34mINFO:root:Determined delimiter of CSV input is ','\u001b[0m\n",
      "\u001b[34mINFO:root:Determined delimiter of CSV input is ','\u001b[0m\n",
      "\u001b[34m[19:23:55] 224x5 matrix with 1120 entries loaded from /opt/ml/input/data/train?format=csv&label_column=0&delimiter=,\u001b[0m\n",
      "\u001b[34mINFO:root:Determined delimiter of CSV input is ','\u001b[0m\n",
      "\u001b[34m[19:23:55] 97x5 matrix with 485 entries loaded from /opt/ml/input/data/validation?format=csv&label_column=0&delimiter=,\u001b[0m\n",
      "\u001b[34mINFO:root:Single node training.\u001b[0m\n",
      "\u001b[34mINFO:root:Setting up HPO optimized metric to be : rmse\u001b[0m\n",
      "\u001b[34mINFO:root:Train matrix has 224 rows\u001b[0m\n",
      "\u001b[34mINFO:root:Validation matrix has 97 rows\u001b[0m\n",
      "\u001b[34m[19:23:55] WARNING: /workspace/src/objective/regression_obj.cu:167: reg:linear is now deprecated in favor of reg:squarederror.\u001b[0m\n",
      "\u001b[34m[0]#011train-rmse:227.56529#011validation-rmse:239.29100\u001b[0m\n",
      "\u001b[34m[1]#011train-rmse:174.95808#011validation-rmse:182.80495\u001b[0m\n",
      "\u001b[34m[2]#011train-rmse:136.18721#011validation-rmse:142.18408\u001b[0m\n",
      "\u001b[34m[3]#011train-rmse:107.63582#011validation-rmse:112.79685\u001b[0m\n",
      "\u001b[34m[4]#011train-rmse:84.58034#011validation-rmse:87.66193\u001b[0m\n",
      "\u001b[34m[5]#011train-rmse:68.83136#011validation-rmse:70.92333\u001b[0m\n",
      "\u001b[34m[6]#011train-rmse:57.14468#011validation-rmse:57.65204\u001b[0m\n",
      "\u001b[34m[7]#011train-rmse:49.23871#011validation-rmse:47.73151\u001b[0m\n",
      "\u001b[34m[8]#011train-rmse:41.90760#011validation-rmse:39.91199\u001b[0m\n",
      "\u001b[34m[9]#011train-rmse:36.67703#011validation-rmse:32.70820\u001b[0m\n",
      "\u001b[34m[10]#011train-rmse:33.22493#011validation-rmse:28.99037\u001b[0m\n",
      "\u001b[34m[11]#011train-rmse:31.00914#011validation-rmse:24.58717\u001b[0m\n",
      "\u001b[34m[12]#011train-rmse:28.70975#011validation-rmse:23.06067\u001b[0m\n",
      "\u001b[34m[13]#011train-rmse:27.12032#011validation-rmse:21.82313\u001b[0m\n",
      "\u001b[34m[14]#011train-rmse:26.11640#011validation-rmse:20.20670\u001b[0m\n",
      "\u001b[34m[15]#011train-rmse:24.71130#011validation-rmse:19.63284\u001b[0m\n",
      "\u001b[34m[16]#011train-rmse:24.29068#011validation-rmse:18.18611\u001b[0m\n",
      "\u001b[34m[17]#011train-rmse:23.91851#011validation-rmse:19.74479\u001b[0m\n",
      "\u001b[34m[18]#011train-rmse:23.34899#011validation-rmse:18.23616\u001b[0m\n",
      "\u001b[34m[19]#011train-rmse:22.96990#011validation-rmse:16.99404\u001b[0m\n",
      "\u001b[34m[20]#011train-rmse:22.34405#011validation-rmse:17.02051\u001b[0m\n",
      "\u001b[34m[21]#011train-rmse:21.86799#011validation-rmse:17.93920\u001b[0m\n",
      "\u001b[34m[22]#011train-rmse:21.73258#011validation-rmse:17.04286\u001b[0m\n",
      "\u001b[34m[23]#011train-rmse:21.58776#011validation-rmse:16.56973\u001b[0m\n",
      "\u001b[34m[24]#011train-rmse:21.49809#011validation-rmse:16.26522\u001b[0m\n",
      "\u001b[34m[25]#011train-rmse:21.48163#011validation-rmse:15.61484\u001b[0m\n",
      "\u001b[34m[26]#011train-rmse:21.28518#011validation-rmse:16.49027\u001b[0m\n",
      "\u001b[34m[27]#011train-rmse:21.13434#011validation-rmse:16.08038\u001b[0m\n",
      "\u001b[34m[28]#011train-rmse:20.89516#011validation-rmse:17.67162\u001b[0m\n",
      "\u001b[34m[29]#011train-rmse:20.22129#011validation-rmse:17.56289\u001b[0m\n",
      "\u001b[34m[30]#011train-rmse:19.81745#011validation-rmse:17.14425\u001b[0m\n",
      "\u001b[34m[31]#011train-rmse:19.12803#011validation-rmse:17.89457\u001b[0m\n",
      "\u001b[34m[32]#011train-rmse:19.20220#011validation-rmse:17.19794\u001b[0m\n",
      "\u001b[34m[33]#011train-rmse:19.02950#011validation-rmse:17.01191\u001b[0m\n",
      "\u001b[34m[34]#011train-rmse:18.75238#011validation-rmse:17.53011\u001b[0m\n",
      "\u001b[34m[35]#011train-rmse:18.77600#011validation-rmse:16.93518\u001b[0m\n",
      "Training seconds: 69\n",
      "Billable seconds: 69\n"
     ]
    }
   ],
   "source": [
    "#set up a batch transform job to test the best model with a new estimator object from the results of the best training job.\n",
    "xgb_attached = sagemaker.estimator.Estimator.attach(xgb_hyperparameter_tuner.best_training_job())"
   ]
  },
  {
   "cell_type": "code",
   "execution_count": null,
   "id": "trained-reach",
   "metadata": {},
   "outputs": [],
   "source": [
    "# we can see the least validation rmse is 16.93 which is less than the main main model so we expect accuracy of the (Hyperparameter Tuning) is higer."
   ]
  },
  {
   "cell_type": "code",
   "execution_count": 58,
   "id": "christian-bulgaria",
   "metadata": {},
   "outputs": [
    {
     "name": "stderr",
     "output_type": "stream",
     "text": [
      "Parameter image will be renamed to image_uri in SageMaker Python SDK v2.\n"
     ]
    }
   ],
   "source": [
    "#we have our best performing model to test the model we use the batch transform functionality.\n",
    "#build a transformer object from our fit model.\n",
    "xgb_transformer = xgb_attached.transformer(instance_count = 1, instance_type = 'ml.m4.xlarge')"
   ]
  },
  {
   "cell_type": "code",
   "execution_count": 59,
   "id": "documentary-miller",
   "metadata": {},
   "outputs": [],
   "source": [
    "#begin a batch transform job using our trained model applying it to the test data we previous stored in S3\n",
    "xgb_transformer.transform(test_location, content_type='text/csv', split_type='Line')\n"
   ]
  },
  {
   "cell_type": "code",
   "execution_count": 60,
   "id": "computational-cambridge",
   "metadata": {},
   "outputs": [
    {
     "name": "stdout",
     "output_type": "stream",
     "text": [
      "..................................\u001b[34m[2021-03-09:19:35:39:INFO] No GPUs detected (normal if no gpus installed)\u001b[0m\n",
      "\u001b[34m[2021-03-09:19:35:39:INFO] No GPUs detected (normal if no gpus installed)\u001b[0m\n",
      "\u001b[35m[2021-03-09:19:35:39:INFO] No GPUs detected (normal if no gpus installed)\u001b[0m\n",
      "\u001b[35m[2021-03-09:19:35:39:INFO] No GPUs detected (normal if no gpus installed)\u001b[0m\n",
      "\u001b[34m[2021-03-09:19:35:39:INFO] nginx config: \u001b[0m\n",
      "\u001b[34mworker_processes auto;\u001b[0m\n",
      "\u001b[34mdaemon off;\u001b[0m\n",
      "\u001b[34mpid /tmp/nginx.pid;\u001b[0m\n",
      "\u001b[34merror_log  /dev/stderr;\n",
      "\u001b[0m\n",
      "\u001b[34mworker_rlimit_nofile 4096;\n",
      "\u001b[0m\n",
      "\u001b[34mevents {\n",
      "  worker_connections 2048;\u001b[0m\n",
      "\u001b[34m}\n",
      "\u001b[0m\n",
      "\u001b[35m[2021-03-09:19:35:39:INFO] nginx config: \u001b[0m\n",
      "\u001b[35mworker_processes auto;\u001b[0m\n",
      "\u001b[35mdaemon off;\u001b[0m\n",
      "\u001b[35mpid /tmp/nginx.pid;\u001b[0m\n",
      "\u001b[35merror_log  /dev/stderr;\n",
      "\u001b[0m\n",
      "\u001b[35mworker_rlimit_nofile 4096;\n",
      "\u001b[0m\n",
      "\u001b[35mevents {\n",
      "  worker_connections 2048;\u001b[0m\n",
      "\u001b[35m}\n",
      "\u001b[0m\n",
      "\u001b[34mhttp {\n",
      "  include /etc/nginx/mime.types;\n",
      "  default_type application/octet-stream;\n",
      "  access_log /dev/stdout combined;\n",
      "\n",
      "  upstream gunicorn {\n",
      "    server unix:/tmp/gunicorn.sock;\n",
      "  }\n",
      "\n",
      "  server {\n",
      "    listen 8080 deferred;\n",
      "    client_max_body_size 0;\n",
      "\n",
      "    keepalive_timeout 3;\n",
      "\n",
      "    location ~ ^/(ping|invocations|execution-parameters) {\n",
      "      proxy_set_header X-Forwarded-For $proxy_add_x_forwarded_for;\n",
      "      proxy_set_header Host $http_host;\n",
      "      proxy_redirect off;\n",
      "      proxy_read_timeout 60s;\n",
      "      proxy_pass http://gunicorn;\n",
      "    }\n",
      "\n",
      "    location / {\n",
      "      return 404 \"{}\";\n",
      "    }\n",
      "\n",
      "  }\u001b[0m\n",
      "\u001b[34m}\n",
      "\n",
      "\u001b[0m\n",
      "\u001b[34m2021/03/09 19:35:39 [crit] 18#18: *1 connect() to unix:/tmp/gunicorn.sock failed (2: No such file or directory) while connecting to upstream, client: 169.254.255.130, server: , request: \"GET /ping HTTP/1.1\", upstream: \"http://unix:/tmp/gunicorn.sock:/ping\", host: \"169.254.255.131:8080\"\u001b[0m\n",
      "\u001b[34m169.254.255.130 - - [09/Mar/2021:19:35:39 +0000] \"GET /ping HTTP/1.1\" 502 182 \"-\" \"Go-http-client/1.1\"\u001b[0m\n",
      "\u001b[34m2021/03/09 19:35:39 [crit] 18#18: *3 connect() to unix:/tmp/gunicorn.sock failed (2: No such file or directory) while connecting to upstream, client: 169.254.255.130, server: , request: \"GET /ping HTTP/1.1\", upstream: \"http://unix:/tmp/gunicorn.sock:/ping\", host: \"169.254.255.131:8080\"\u001b[0m\n",
      "\u001b[34m169.254.255.130 - - [09/Mar/2021:19:35:39 +0000] \"GET /ping HTTP/1.1\" 502 182 \"-\" \"Go-http-client/1.1\"\u001b[0m\n",
      "\u001b[34m[2021-03-09 19:35:39 +0000] [17] [INFO] Starting gunicorn 19.10.0\u001b[0m\n",
      "\u001b[34m[2021-03-09 19:35:39 +0000] [17] [INFO] Listening at: unix:/tmp/gunicorn.sock (17)\u001b[0m\n",
      "\u001b[34m[2021-03-09 19:35:39 +0000] [17] [INFO] Using worker: gevent\u001b[0m\n",
      "\u001b[34m[2021-03-09 19:35:39 +0000] [24] [INFO] Booting worker with pid: 24\u001b[0m\n",
      "\u001b[35mhttp {\n",
      "  include /etc/nginx/mime.types;\n",
      "  default_type application/octet-stream;\n",
      "  access_log /dev/stdout combined;\n",
      "\n",
      "  upstream gunicorn {\n",
      "    server unix:/tmp/gunicorn.sock;\n",
      "  }\n",
      "\n",
      "  server {\n",
      "    listen 8080 deferred;\n",
      "    client_max_body_size 0;\n",
      "\n",
      "    keepalive_timeout 3;\n",
      "\n",
      "    location ~ ^/(ping|invocations|execution-parameters) {\n",
      "      proxy_set_header X-Forwarded-For $proxy_add_x_forwarded_for;\n",
      "      proxy_set_header Host $http_host;\n",
      "      proxy_redirect off;\n",
      "      proxy_read_timeout 60s;\n",
      "      proxy_pass http://gunicorn;\n",
      "    }\n",
      "\n",
      "    location / {\n",
      "      return 404 \"{}\";\n",
      "    }\n",
      "\n",
      "  }\u001b[0m\n",
      "\u001b[35m}\n",
      "\n",
      "\u001b[0m\n",
      "\u001b[35m2021/03/09 19:35:39 [crit] 18#18: *1 connect() to unix:/tmp/gunicorn.sock failed (2: No such file or directory) while connecting to upstream, client: 169.254.255.130, server: , request: \"GET /ping HTTP/1.1\", upstream: \"http://unix:/tmp/gunicorn.sock:/ping\", host: \"169.254.255.131:8080\"\u001b[0m\n",
      "\u001b[35m169.254.255.130 - - [09/Mar/2021:19:35:39 +0000] \"GET /ping HTTP/1.1\" 502 182 \"-\" \"Go-http-client/1.1\"\u001b[0m\n",
      "\u001b[35m2021/03/09 19:35:39 [crit] 18#18: *3 connect() to unix:/tmp/gunicorn.sock failed (2: No such file or directory) while connecting to upstream, client: 169.254.255.130, server: , request: \"GET /ping HTTP/1.1\", upstream: \"http://unix:/tmp/gunicorn.sock:/ping\", host: \"169.254.255.131:8080\"\u001b[0m\n",
      "\u001b[35m169.254.255.130 - - [09/Mar/2021:19:35:39 +0000] \"GET /ping HTTP/1.1\" 502 182 \"-\" \"Go-http-client/1.1\"\u001b[0m\n",
      "\u001b[35m[2021-03-09 19:35:39 +0000] [17] [INFO] Starting gunicorn 19.10.0\u001b[0m\n",
      "\u001b[35m[2021-03-09 19:35:39 +0000] [17] [INFO] Listening at: unix:/tmp/gunicorn.sock (17)\u001b[0m\n",
      "\u001b[35m[2021-03-09 19:35:39 +0000] [17] [INFO] Using worker: gevent\u001b[0m\n",
      "\u001b[35m[2021-03-09 19:35:39 +0000] [24] [INFO] Booting worker with pid: 24\u001b[0m\n",
      "\u001b[34m[2021-03-09 19:35:39 +0000] [25] [INFO] Booting worker with pid: 25\u001b[0m\n",
      "\u001b[34m[2021-03-09 19:35:39 +0000] [26] [INFO] Booting worker with pid: 26\u001b[0m\n",
      "\u001b[34m[2021-03-09 19:35:39 +0000] [27] [INFO] Booting worker with pid: 27\u001b[0m\n",
      "\u001b[35m[2021-03-09 19:35:39 +0000] [25] [INFO] Booting worker with pid: 25\u001b[0m\n",
      "\u001b[35m[2021-03-09 19:35:39 +0000] [26] [INFO] Booting worker with pid: 26\u001b[0m\n",
      "\u001b[35m[2021-03-09 19:35:39 +0000] [27] [INFO] Booting worker with pid: 27\u001b[0m\n",
      "\u001b[34m[2021-03-09:19:35:42:INFO] No GPUs detected (normal if no gpus installed)\u001b[0m\n",
      "\u001b[34m169.254.255.130 - - [09/Mar/2021:19:35:42 +0000] \"GET /ping HTTP/1.1\" 200 0 \"-\" \"Go-http-client/1.1\"\u001b[0m\n",
      "\u001b[34m[2021-03-09:19:35:42:INFO] No GPUs detected (normal if no gpus installed)\u001b[0m\n",
      "\u001b[34m169.254.255.130 - - [09/Mar/2021:19:35:42 +0000] \"GET /execution-parameters HTTP/1.1\" 200 84 \"-\" \"Go-http-client/1.1\"\u001b[0m\n",
      "\u001b[34m[2021-03-09:19:35:42:INFO] No GPUs detected (normal if no gpus installed)\u001b[0m\n",
      "\u001b[34m[2021-03-09:19:35:42:INFO] Determined delimiter of CSV input is ','\u001b[0m\n",
      "\u001b[34m[19:35:42] WARNING: /workspace/src/objective/regression_obj.cu:167: reg:linear is now deprecated in favor of reg:squarederror.\u001b[0m\n",
      "\u001b[34m169.254.255.130 - - [09/Mar/2021:19:35:42 +0000] \"POST /invocations HTTP/1.1\" 200 2505 \"-\" \"Go-http-client/1.1\"\u001b[0m\n",
      "\u001b[35m[2021-03-09:19:35:42:INFO] No GPUs detected (normal if no gpus installed)\u001b[0m\n",
      "\u001b[35m169.254.255.130 - - [09/Mar/2021:19:35:42 +0000] \"GET /ping HTTP/1.1\" 200 0 \"-\" \"Go-http-client/1.1\"\u001b[0m\n",
      "\u001b[35m[2021-03-09:19:35:42:INFO] No GPUs detected (normal if no gpus installed)\u001b[0m\n",
      "\u001b[35m169.254.255.130 - - [09/Mar/2021:19:35:42 +0000] \"GET /execution-parameters HTTP/1.1\" 200 84 \"-\" \"Go-http-client/1.1\"\u001b[0m\n",
      "\u001b[35m[2021-03-09:19:35:42:INFO] No GPUs detected (normal if no gpus installed)\u001b[0m\n",
      "\u001b[35m[2021-03-09:19:35:42:INFO] Determined delimiter of CSV input is ','\u001b[0m\n",
      "\u001b[35m[19:35:42] WARNING: /workspace/src/objective/regression_obj.cu:167: reg:linear is now deprecated in favor of reg:squarederror.\u001b[0m\n",
      "\u001b[35m169.254.255.130 - - [09/Mar/2021:19:35:42 +0000] \"POST /invocations HTTP/1.1\" 200 2505 \"-\" \"Go-http-client/1.1\"\u001b[0m\n",
      "\u001b[32m2021-03-09T19:35:42.147:[sagemaker logs]: MaxConcurrentTransforms=4, MaxPayloadInMB=6, BatchStrategy=MULTI_RECORD\u001b[0m\n",
      "\n"
     ]
    }
   ],
   "source": [
    "# wait until transform job is finished\n",
    "xgb_transformer.wait()\n"
   ]
  },
  {
   "cell_type": "code",
   "execution_count": 61,
   "id": "anonymous-israeli",
   "metadata": {},
   "outputs": [
    {
     "name": "stdout",
     "output_type": "stream",
     "text": [
      "download: s3://sagemaker-us-east-1-906056258627/sagemaker-xgboost-210309-1858-018-02b32-2021-03-09-19-30-09-771/test.csv.out to ../data/catapult/test.csv.out\n"
     ]
    }
   ],
   "source": [
    "# copy the output file from its S3 location and save it locally\n",
    "!aws s3 cp --recursive $xgb_transformer.output_path $data_dir"
   ]
  },
  {
   "cell_type": "code",
   "execution_count": 62,
   "id": "moral-satin",
   "metadata": {},
   "outputs": [],
   "source": [
    "#test the model.\n",
    "Y_pred = pd.read_csv(os.path.join(data_dir, 'test.csv.out'), header=None)"
   ]
  },
  {
   "cell_type": "code",
   "execution_count": 63,
   "id": "raised-repeat",
   "metadata": {},
   "outputs": [
    {
     "data": {
      "text/plain": [
       "Text(0.5, 1.0, 'orig distance vs Predicted distance')"
      ]
     },
     "execution_count": 63,
     "metadata": {},
     "output_type": "execute_result"
    },
    {
     "data": {
      "image/png": "[encoded data removed]",
      "text/plain": [
       "<Figure size 432x288 with 1 Axes>"
      ]
     },
     "metadata": {
      "needs_background": "light"
     },
     "output_type": "display_data"
    }
   ],
   "source": [
    "#create a simple scatter plot between the predicted and actual distance values\n",
    "plt.scatter(Y_test, Y_pred)\n",
    "plt.xlabel(\" orig distance\")\n",
    "plt.ylabel(\"Predicted distance\")\n",
    "plt.title(\"orig distance vs Predicted distance\")"
   ]
  },
  {
   "cell_type": "code",
   "execution_count": 99,
   "id": "fleet-parallel",
   "metadata": {},
   "outputs": [],
   "source": [
    "#"
   ]
  },
  {
   "cell_type": "code",
   "execution_count": null,
   "id": "fiscal-sport",
   "metadata": {},
   "outputs": [],
   "source": []
  },
  {
   "cell_type": "code",
   "execution_count": null,
   "id": "informal-silver",
   "metadata": {},
   "outputs": [],
   "source": []
  }
 ],
 "metadata": {
  "kernelspec": {
   "display_name": "conda_amazonei_mxnet_p36",
   "language": "python",
   "name": "conda_amazonei_mxnet_p36"
  },
  "language_info": {
   "codemirror_mode": {
    "name": "ipython",
    "version": 3
   },
   "file_extension": ".py",
   "mimetype": "text/x-python",
   "name": "python",
   "nbconvert_exporter": "python",
   "pygments_lexer": "ipython3",
   "version": "3.6.13"
  }
 },
 "nbformat": 4,
 "nbformat_minor": 5
}
